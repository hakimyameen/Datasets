{
 "cells": [
  {
   "cell_type": "markdown",
   "metadata": {},
   "source": [
    "# **PROBLEM STATEMENT :**\n",
    "## To predict the CO2 emissions (g/km) from a vehicle in Canada depending on the fuel consumption and other describing features of a vehicle."
   ]
  },
  {
   "cell_type": "markdown",
   "metadata": {},
   "source": [
    "# **DATASET :**\n",
    "## The dataset has been taken from the Canada Government official website link is given below.\n",
    "https://open.canada.ca/data/en/dataset/98f1a129-f628-4ce4-b24d-6f16bf24dd64#wb-auto-6\n",
    "## This dataset contains official CO2 emissions data for various car of different features over the period of 2014 to 2020. It has 7385 samples and total 11 features.\n",
    "## There are few abbreviations that has been used in this data for different features. The abbreviations are listed below :\n",
    "## **1. Model :**\n",
    "#### **4WD/4X4** = Four-wheel drive\n",
    "#### **AWD** = All-wheel drive\n",
    "#### **FFV** = Flexible-fuel vehicle\n",
    "#### **SWB** = Short wheelbase\n",
    "#### **LWB** = Long wheelbase\n",
    "#### **EWB** = Extended wheelbase\n",
    "## **2. Transmission :**\n",
    "#### **A** = automatic\n",
    "#### **AM** = automated manual\n",
    "#### **AS** = automatic with select shift\n",
    "#### **AV** = continuously variable\n",
    "#### **M** = manual\n",
    "## **3. Fuel type :**\n",
    "#### **X** = regular gasoline\n",
    "#### **Z** = premium gasoline\n",
    "#### **D** = diesel\n",
    "#### **E** = ethanol (E85)\n",
    "#### **N** = natural gas\n",
    "## **4. Fuel consumption :**\n",
    "#### City and highway fuel consumption ratings are shown in litres per 100 kilometres (L/100 km) - the combined rating (55% city, 45% hwy) is shown in L/100 km and in miles per imperial gallon (mpg)"
   ]
  },
  {
   "cell_type": "markdown",
   "metadata": {},
   "source": [
    "# **EXPLORATORY DATA ANALYSIS (EDA)**\n",
    "## ***Objective of EDA :***\n",
    "#### 1. To check for missing data and other anamolies.\n",
    "#### 2. To gain maximum insight into the data set and its underlying structure.\n",
    "#### 3. To check the distribution of the data.\n",
    "#### 4. Identify the most influential variables."
   ]
  },
  {
   "cell_type": "markdown",
   "metadata": {},
   "source": [
    "## ***Importing all the required Libraries***"
   ]
  },
  {
   "cell_type": "code",
   "execution_count": 1,
   "metadata": {},
   "outputs": [],
   "source": [
    "import pandas as pd\n",
    "import numpy as np\n",
    "from numpy import percentile\n",
    "from scipy import stats\n",
    "from scipy.stats import skew\n",
    "from scipy.special import boxcox1p\n",
    "import seaborn as sns\n",
    "import matplotlib.pyplot as plt\n",
    "import warnings\n",
    "warnings.filterwarnings('ignore')"
   ]
  },
  {
   "cell_type": "markdown",
   "metadata": {},
   "source": [
    "## ***Importing and reading the CSV file***"
   ]
  },
  {
   "cell_type": "code",
   "execution_count": 2,
   "metadata": {},
   "outputs": [],
   "source": [
    "fuel_con = pd.read_csv(\"CO2 Emissions_Canada.csv\")"
   ]
  },
  {
   "cell_type": "markdown",
   "metadata": {},
   "source": [
    "## ***Checking all the information regarding the dataset.***"
   ]
  },
  {
   "cell_type": "code",
   "execution_count": 3,
   "metadata": {},
   "outputs": [
    {
     "data": {
      "text/html": [
       "<div>\n",
       "<style scoped>\n",
       "    .dataframe tbody tr th:only-of-type {\n",
       "        vertical-align: middle;\n",
       "    }\n",
       "\n",
       "    .dataframe tbody tr th {\n",
       "        vertical-align: top;\n",
       "    }\n",
       "\n",
       "    .dataframe thead th {\n",
       "        text-align: right;\n",
       "    }\n",
       "</style>\n",
       "<table border=\"1\" class=\"dataframe\">\n",
       "  <thead>\n",
       "    <tr style=\"text-align: right;\">\n",
       "      <th></th>\n",
       "      <th>Make</th>\n",
       "      <th>Model</th>\n",
       "      <th>Vehicle Class</th>\n",
       "      <th>Engine Size(L)</th>\n",
       "      <th>Cylinders</th>\n",
       "      <th>Transmission</th>\n",
       "      <th>Fuel Type</th>\n",
       "      <th>Fuel Consumption City (L/100 km)</th>\n",
       "      <th>Fuel Consumption Hwy (L/100 km)</th>\n",
       "      <th>Fuel Consumption Comb (L/100 km)</th>\n",
       "      <th>Fuel Consumption Comb (mpg)</th>\n",
       "      <th>CO2 Emissions(g/km)</th>\n",
       "    </tr>\n",
       "  </thead>\n",
       "  <tbody>\n",
       "    <tr>\n",
       "      <th>0</th>\n",
       "      <td>ACURA</td>\n",
       "      <td>ILX</td>\n",
       "      <td>COMPACT</td>\n",
       "      <td>2.0</td>\n",
       "      <td>4</td>\n",
       "      <td>AS5</td>\n",
       "      <td>Z</td>\n",
       "      <td>9.9</td>\n",
       "      <td>6.7</td>\n",
       "      <td>8.5</td>\n",
       "      <td>33</td>\n",
       "      <td>196</td>\n",
       "    </tr>\n",
       "    <tr>\n",
       "      <th>1</th>\n",
       "      <td>ACURA</td>\n",
       "      <td>ILX</td>\n",
       "      <td>COMPACT</td>\n",
       "      <td>2.4</td>\n",
       "      <td>4</td>\n",
       "      <td>M6</td>\n",
       "      <td>Z</td>\n",
       "      <td>11.2</td>\n",
       "      <td>7.7</td>\n",
       "      <td>9.6</td>\n",
       "      <td>29</td>\n",
       "      <td>221</td>\n",
       "    </tr>\n",
       "    <tr>\n",
       "      <th>2</th>\n",
       "      <td>ACURA</td>\n",
       "      <td>ILX HYBRID</td>\n",
       "      <td>COMPACT</td>\n",
       "      <td>1.5</td>\n",
       "      <td>4</td>\n",
       "      <td>AV7</td>\n",
       "      <td>Z</td>\n",
       "      <td>6.0</td>\n",
       "      <td>5.8</td>\n",
       "      <td>5.9</td>\n",
       "      <td>48</td>\n",
       "      <td>136</td>\n",
       "    </tr>\n",
       "    <tr>\n",
       "      <th>3</th>\n",
       "      <td>ACURA</td>\n",
       "      <td>MDX 4WD</td>\n",
       "      <td>SUV - SMALL</td>\n",
       "      <td>3.5</td>\n",
       "      <td>6</td>\n",
       "      <td>AS6</td>\n",
       "      <td>Z</td>\n",
       "      <td>12.7</td>\n",
       "      <td>9.1</td>\n",
       "      <td>11.1</td>\n",
       "      <td>25</td>\n",
       "      <td>255</td>\n",
       "    </tr>\n",
       "    <tr>\n",
       "      <th>4</th>\n",
       "      <td>ACURA</td>\n",
       "      <td>RDX AWD</td>\n",
       "      <td>SUV - SMALL</td>\n",
       "      <td>3.5</td>\n",
       "      <td>6</td>\n",
       "      <td>AS6</td>\n",
       "      <td>Z</td>\n",
       "      <td>12.1</td>\n",
       "      <td>8.7</td>\n",
       "      <td>10.6</td>\n",
       "      <td>27</td>\n",
       "      <td>244</td>\n",
       "    </tr>\n",
       "  </tbody>\n",
       "</table>\n",
       "</div>"
      ],
      "text/plain": [
       "    Make       Model Vehicle Class  Engine Size(L)  Cylinders Transmission  \\\n",
       "0  ACURA         ILX       COMPACT             2.0          4          AS5   \n",
       "1  ACURA         ILX       COMPACT             2.4          4           M6   \n",
       "2  ACURA  ILX HYBRID       COMPACT             1.5          4          AV7   \n",
       "3  ACURA     MDX 4WD   SUV - SMALL             3.5          6          AS6   \n",
       "4  ACURA     RDX AWD   SUV - SMALL             3.5          6          AS6   \n",
       "\n",
       "  Fuel Type  Fuel Consumption City (L/100 km)  \\\n",
       "0         Z                               9.9   \n",
       "1         Z                              11.2   \n",
       "2         Z                               6.0   \n",
       "3         Z                              12.7   \n",
       "4         Z                              12.1   \n",
       "\n",
       "   Fuel Consumption Hwy (L/100 km)  Fuel Consumption Comb (L/100 km)  \\\n",
       "0                              6.7                               8.5   \n",
       "1                              7.7                               9.6   \n",
       "2                              5.8                               5.9   \n",
       "3                              9.1                              11.1   \n",
       "4                              8.7                              10.6   \n",
       "\n",
       "   Fuel Consumption Comb (mpg)  CO2 Emissions(g/km)  \n",
       "0                           33                  196  \n",
       "1                           29                  221  \n",
       "2                           48                  136  \n",
       "3                           25                  255  \n",
       "4                           27                  244  "
      ]
     },
     "execution_count": 3,
     "metadata": {},
     "output_type": "execute_result"
    }
   ],
   "source": [
    "fuel_con.head()"
   ]
  },
  {
   "cell_type": "markdown",
   "metadata": {},
   "source": [
    "### ***To check the detailed information of each features.***"
   ]
  },
  {
   "cell_type": "code",
   "execution_count": 4,
   "metadata": {},
   "outputs": [
    {
     "name": "stdout",
     "output_type": "stream",
     "text": [
      "<class 'pandas.core.frame.DataFrame'>\n",
      "RangeIndex: 7385 entries, 0 to 7384\n",
      "Data columns (total 12 columns):\n",
      " #   Column                            Non-Null Count  Dtype  \n",
      "---  ------                            --------------  -----  \n",
      " 0   Make                              7385 non-null   object \n",
      " 1   Model                             7385 non-null   object \n",
      " 2   Vehicle Class                     7385 non-null   object \n",
      " 3   Engine Size(L)                    7385 non-null   float64\n",
      " 4   Cylinders                         7385 non-null   int64  \n",
      " 5   Transmission                      7385 non-null   object \n",
      " 6   Fuel Type                         7385 non-null   object \n",
      " 7   Fuel Consumption City (L/100 km)  7385 non-null   float64\n",
      " 8   Fuel Consumption Hwy (L/100 km)   7385 non-null   float64\n",
      " 9   Fuel Consumption Comb (L/100 km)  7385 non-null   float64\n",
      " 10  Fuel Consumption Comb (mpg)       7385 non-null   int64  \n",
      " 11  CO2 Emissions(g/km)               7385 non-null   int64  \n",
      "dtypes: float64(4), int64(3), object(5)\n",
      "memory usage: 692.5+ KB\n"
     ]
    }
   ],
   "source": [
    "fuel_con.info()"
   ]
  },
  {
   "cell_type": "code",
   "execution_count": 5,
   "metadata": {},
   "outputs": [
    {
     "data": {
      "text/plain": [
       "(7385, 12)"
      ]
     },
     "execution_count": 5,
     "metadata": {},
     "output_type": "execute_result"
    }
   ],
   "source": [
    "fuel_con.shape"
   ]
  },
  {
   "cell_type": "markdown",
   "metadata": {},
   "source": [
    "### ***To check the column names***"
   ]
  },
  {
   "cell_type": "code",
   "execution_count": 6,
   "metadata": {},
   "outputs": [
    {
     "data": {
      "text/plain": [
       "Index(['Make', 'Model', 'Vehicle Class', 'Engine Size(L)', 'Cylinders',\n",
       "       'Transmission', 'Fuel Type', 'Fuel Consumption City (L/100 km)',\n",
       "       'Fuel Consumption Hwy (L/100 km)', 'Fuel Consumption Comb (L/100 km)',\n",
       "       'Fuel Consumption Comb (mpg)', 'CO2 Emissions(g/km)'],\n",
       "      dtype='object')"
      ]
     },
     "execution_count": 6,
     "metadata": {},
     "output_type": "execute_result"
    }
   ],
   "source": [
    "fuel_con.columns"
   ]
  },
  {
   "cell_type": "markdown",
   "metadata": {},
   "source": [
    "### ***To check for null values***"
   ]
  },
  {
   "cell_type": "code",
   "execution_count": 7,
   "metadata": {},
   "outputs": [
    {
     "data": {
      "text/plain": [
       "Make                                0\n",
       "Model                               0\n",
       "Vehicle Class                       0\n",
       "Engine Size(L)                      0\n",
       "Cylinders                           0\n",
       "Transmission                        0\n",
       "Fuel Type                           0\n",
       "Fuel Consumption City (L/100 km)    0\n",
       "Fuel Consumption Hwy (L/100 km)     0\n",
       "Fuel Consumption Comb (L/100 km)    0\n",
       "Fuel Consumption Comb (mpg)         0\n",
       "CO2 Emissions(g/km)                 0\n",
       "dtype: int64"
      ]
     },
     "execution_count": 7,
     "metadata": {},
     "output_type": "execute_result"
    }
   ],
   "source": [
    "fuel_con.isnull().sum()"
   ]
  },
  {
   "cell_type": "markdown",
   "metadata": {},
   "source": [
    "## 1. There are total 7385 row/samples and 12 columns/features. \n",
    "## 2. 11 of the features are predictor and one is regressor\n",
    "## 3. 5 of the 12 column are of object datatype, 3 integer and 4 are float type.\n",
    "## 4. We can see that there are total 7 columns with numerical values and other 5 have character values.\n",
    "## 5. The columns Engine Size(L), Cylinders, Fuel Consumption City (L/100 km), Fuel Consumption Hwy (L/100 km), Fuel Consumption Comb (L/100 km), Fuel Consumption Comb (mpg) and CO2 Emissions(g/km) are numerical and continuous in nature.\n",
    "## 6. The columns Make, Model, Vehicle Class, Transmission and Fuel Type are categorical in nature."
   ]
  },
  {
   "cell_type": "markdown",
   "metadata": {},
   "source": [
    "## ***Analysing the categorical values***"
   ]
  },
  {
   "cell_type": "code",
   "execution_count": 8,
   "metadata": {},
   "outputs": [
    {
     "data": {
      "text/plain": [
       "42"
      ]
     },
     "execution_count": 8,
     "metadata": {},
     "output_type": "execute_result"
    }
   ],
   "source": [
    "fuel_con[\"Make\"].nunique()"
   ]
  },
  {
   "cell_type": "code",
   "execution_count": 9,
   "metadata": {},
   "outputs": [
    {
     "data": {
      "text/plain": [
       "array(['ACURA', 'ALFA ROMEO', 'ASTON MARTIN', 'AUDI', 'BENTLEY', 'BMW',\n",
       "       'BUICK', 'CADILLAC', 'CHEVROLET', 'CHRYSLER', 'DODGE', 'FIAT',\n",
       "       'FORD', 'GMC', 'HONDA', 'HYUNDAI', 'INFINITI', 'JAGUAR', 'JEEP',\n",
       "       'KIA', 'LAMBORGHINI', 'LAND ROVER', 'LEXUS', 'LINCOLN', 'MASERATI',\n",
       "       'MAZDA', 'MERCEDES-BENZ', 'MINI', 'MITSUBISHI', 'NISSAN',\n",
       "       'PORSCHE', 'RAM', 'ROLLS-ROYCE', 'SCION', 'SMART', 'SRT', 'SUBARU',\n",
       "       'TOYOTA', 'VOLKSWAGEN', 'VOLVO', 'GENESIS', 'BUGATTI'],\n",
       "      dtype=object)"
      ]
     },
     "execution_count": 9,
     "metadata": {},
     "output_type": "execute_result"
    }
   ],
   "source": [
    "fuel_con[\"Make\"].unique()"
   ]
  },
  {
   "cell_type": "code",
   "execution_count": 10,
   "metadata": {},
   "outputs": [
    {
     "data": {
      "text/plain": [
       "2053"
      ]
     },
     "execution_count": 10,
     "metadata": {},
     "output_type": "execute_result"
    }
   ],
   "source": [
    "fuel_con.Model.nunique()"
   ]
  },
  {
   "cell_type": "code",
   "execution_count": 11,
   "metadata": {},
   "outputs": [
    {
     "data": {
      "text/plain": [
       "16"
      ]
     },
     "execution_count": 11,
     "metadata": {},
     "output_type": "execute_result"
    }
   ],
   "source": [
    "fuel_con[\"Vehicle Class\"].nunique()"
   ]
  },
  {
   "cell_type": "code",
   "execution_count": 12,
   "metadata": {},
   "outputs": [
    {
     "data": {
      "text/plain": [
       "array(['COMPACT', 'SUV - SMALL', 'MID-SIZE', 'TWO-SEATER', 'MINICOMPACT',\n",
       "       'SUBCOMPACT', 'FULL-SIZE', 'STATION WAGON - SMALL',\n",
       "       'SUV - STANDARD', 'VAN - CARGO', 'VAN - PASSENGER',\n",
       "       'PICKUP TRUCK - STANDARD', 'MINIVAN', 'SPECIAL PURPOSE VEHICLE',\n",
       "       'STATION WAGON - MID-SIZE', 'PICKUP TRUCK - SMALL'], dtype=object)"
      ]
     },
     "execution_count": 12,
     "metadata": {},
     "output_type": "execute_result"
    }
   ],
   "source": [
    "fuel_con[\"Vehicle Class\"].unique()"
   ]
  },
  {
   "cell_type": "code",
   "execution_count": 13,
   "metadata": {},
   "outputs": [
    {
     "data": {
      "text/plain": [
       "27"
      ]
     },
     "execution_count": 13,
     "metadata": {},
     "output_type": "execute_result"
    }
   ],
   "source": [
    "fuel_con[\"Transmission\"].nunique()"
   ]
  },
  {
   "cell_type": "code",
   "execution_count": 14,
   "metadata": {},
   "outputs": [
    {
     "data": {
      "text/plain": [
       "array(['AS5', 'M6', 'AV7', 'AS6', 'AM6', 'A6', 'AM7', 'AV8', 'AS8', 'A7',\n",
       "       'A8', 'M7', 'A4', 'M5', 'AV', 'A5', 'AS7', 'A9', 'AS9', 'AV6',\n",
       "       'AS4', 'AM5', 'AM8', 'AM9', 'AS10', 'A10', 'AV10'], dtype=object)"
      ]
     },
     "execution_count": 14,
     "metadata": {},
     "output_type": "execute_result"
    }
   ],
   "source": [
    "fuel_con[\"Transmission\"].unique()"
   ]
  },
  {
   "cell_type": "markdown",
   "metadata": {},
   "source": [
    "### ***Mapping similar labels into a single label for Transmission column***"
   ]
  },
  {
   "cell_type": "code",
   "execution_count": 15,
   "metadata": {
    "scrolled": false
   },
   "outputs": [
    {
     "data": {
      "text/plain": [
       "0       AS5\n",
       "1        M6\n",
       "2       AV7\n",
       "3       AS6\n",
       "4       AS6\n",
       "       ... \n",
       "7380    AS8\n",
       "7381    AS8\n",
       "7382    AS8\n",
       "7383    AS8\n",
       "7384    AS8\n",
       "Name: Transmission, Length: 7385, dtype: object"
      ]
     },
     "execution_count": 15,
     "metadata": {},
     "output_type": "execute_result"
    }
   ],
   "source": [
    "fuel_con[\"Transmission\"]"
   ]
  },
  {
   "cell_type": "code",
   "execution_count": 16,
   "metadata": {},
   "outputs": [
    {
     "data": {
      "text/plain": [
       "array([ 5,  1, 22, 37, 87,  2,  1,  4])"
      ]
     },
     "execution_count": 16,
     "metadata": {},
     "output_type": "execute_result"
    }
   ],
   "source": [
    "a = np.array([5,1,22,37,87,2,1,4])\n",
    "a"
   ]
  },
  {
   "cell_type": "code",
   "execution_count": 19,
   "metadata": {},
   "outputs": [
    {
     "data": {
      "text/plain": [
       "array(['Low', 'Low', 'High', 'High', 'High', 'Low', 'Low', 'Low'],\n",
       "      dtype='<U4')"
      ]
     },
     "execution_count": 19,
     "metadata": {},
     "output_type": "execute_result"
    }
   ],
   "source": [
    "np.where(a>10,'High','Low')"
   ]
  },
  {
   "cell_type": "code",
   "execution_count": 20,
   "metadata": {},
   "outputs": [],
   "source": [
    "fuel_con[\"Transmission\"] = np.where(fuel_con[\"Transmission\"].isin([\"A4\", \"A5\", \"A6\", \"A7\", \"A8\", \"A9\", \"A10\"]), \"Automatic\", fuel_con[\"Transmission\"])\n",
    "fuel_con[\"Transmission\"] = np.where(fuel_con[\"Transmission\"].isin([\"AM5\", \"AM6\", \"AM7\", \"AM8\", \"AM9\"]), \"Automated Manual\", fuel_con[\"Transmission\"])\n",
    "fuel_con[\"Transmission\"] = np.where(fuel_con[\"Transmission\"].isin([\"AS4\", \"AS5\", \"AS6\", \"AS7\", \"AS8\", \"AS9\", \"AS10\"]), \"Automatic with Select Shift\", fuel_con[\"Transmission\"])\n",
    "fuel_con[\"Transmission\"] = np.where(fuel_con[\"Transmission\"].isin([\"AV\", \"AV6\", \"AV7\", \"AV8\", \"AV10\"]), \"Continuously Variable\", fuel_con[\"Transmission\"])\n",
    "fuel_con[\"Transmission\"] = np.where(fuel_con[\"Transmission\"].isin([\"M5\", \"M6\", \"M7\"]), \"Manual\", fuel_con[\"Transmission\"])"
   ]
  },
  {
   "cell_type": "code",
   "execution_count": 26,
   "metadata": {},
   "outputs": [
    {
     "data": {
      "text/plain": [
       "array(['Automatic with Select Shift', 'Manual', 'Continuously Variable',\n",
       "       'Automated Manual', 'Automatic'], dtype=object)"
      ]
     },
     "execution_count": 26,
     "metadata": {},
     "output_type": "execute_result"
    }
   ],
   "source": [
    "fuel_con[\"Transmission\"].unique()"
   ]
  },
  {
   "cell_type": "code",
   "execution_count": 22,
   "metadata": {},
   "outputs": [
    {
     "data": {
      "text/plain": [
       "5"
      ]
     },
     "execution_count": 22,
     "metadata": {},
     "output_type": "execute_result"
    }
   ],
   "source": [
    "fuel_con[\"Fuel Type\"].nunique()"
   ]
  },
  {
   "cell_type": "code",
   "execution_count": 23,
   "metadata": {},
   "outputs": [
    {
     "data": {
      "text/plain": [
       "array(['Z', 'D', 'X', 'E', 'N'], dtype=object)"
      ]
     },
     "execution_count": 23,
     "metadata": {},
     "output_type": "execute_result"
    }
   ],
   "source": [
    "fuel_con[\"Fuel Type\"].unique()"
   ]
  },
  {
   "cell_type": "markdown",
   "metadata": {},
   "source": [
    "### ***Changing the labels into a meaningful label.***"
   ]
  },
  {
   "cell_type": "code",
   "execution_count": 27,
   "metadata": {},
   "outputs": [],
   "source": [
    "fuel_con[\"Fuel Type\"] = np.where(fuel_con[\"Fuel Type\"]==\"Z\", \"Premium Gasoline\", fuel_con[\"Fuel Type\"])\n",
    "fuel_con[\"Fuel Type\"] = np.where(fuel_con[\"Fuel Type\"]==\"X\", \"Regular Gasoline\", fuel_con[\"Fuel Type\"])\n",
    "fuel_con[\"Fuel Type\"] = np.where(fuel_con[\"Fuel Type\"]==\"D\", \"Diesel\", fuel_con[\"Fuel Type\"])\n",
    "fuel_con[\"Fuel Type\"] = np.where(fuel_con[\"Fuel Type\"]==\"E\", \"Ethanol(E85)\", fuel_con[\"Fuel Type\"])\n",
    "fuel_con[\"Fuel Type\"] = np.where(fuel_con[\"Fuel Type\"]==\"N\", \"Natural Gas\", fuel_con[\"Fuel Type\"])"
   ]
  },
  {
   "cell_type": "code",
   "execution_count": 28,
   "metadata": {},
   "outputs": [
    {
     "data": {
      "text/plain": [
       "array(['Premium Gasoline', 'Diesel', 'Regular Gasoline', 'Ethanol(E85)',\n",
       "       'Natural Gas'], dtype=object)"
      ]
     },
     "execution_count": 28,
     "metadata": {},
     "output_type": "execute_result"
    }
   ],
   "source": [
    "fuel_con[\"Fuel Type\"].unique()"
   ]
  },
  {
   "cell_type": "code",
   "execution_count": 29,
   "metadata": {},
   "outputs": [
    {
     "data": {
      "text/html": [
       "<div>\n",
       "<style scoped>\n",
       "    .dataframe tbody tr th:only-of-type {\n",
       "        vertical-align: middle;\n",
       "    }\n",
       "\n",
       "    .dataframe tbody tr th {\n",
       "        vertical-align: top;\n",
       "    }\n",
       "\n",
       "    .dataframe thead th {\n",
       "        text-align: right;\n",
       "    }\n",
       "</style>\n",
       "<table border=\"1\" class=\"dataframe\">\n",
       "  <thead>\n",
       "    <tr style=\"text-align: right;\">\n",
       "      <th></th>\n",
       "      <th>Make</th>\n",
       "      <th>Model</th>\n",
       "      <th>Vehicle Class</th>\n",
       "      <th>Engine Size(L)</th>\n",
       "      <th>Cylinders</th>\n",
       "      <th>Transmission</th>\n",
       "      <th>Fuel Type</th>\n",
       "      <th>Fuel Consumption City (L/100 km)</th>\n",
       "      <th>Fuel Consumption Hwy (L/100 km)</th>\n",
       "      <th>Fuel Consumption Comb (L/100 km)</th>\n",
       "      <th>Fuel Consumption Comb (mpg)</th>\n",
       "      <th>CO2 Emissions(g/km)</th>\n",
       "    </tr>\n",
       "  </thead>\n",
       "  <tbody>\n",
       "    <tr>\n",
       "      <th>0</th>\n",
       "      <td>ACURA</td>\n",
       "      <td>ILX</td>\n",
       "      <td>COMPACT</td>\n",
       "      <td>2.0</td>\n",
       "      <td>4</td>\n",
       "      <td>Automatic with Select Shift</td>\n",
       "      <td>Premium Gasoline</td>\n",
       "      <td>9.9</td>\n",
       "      <td>6.7</td>\n",
       "      <td>8.5</td>\n",
       "      <td>33</td>\n",
       "      <td>196</td>\n",
       "    </tr>\n",
       "    <tr>\n",
       "      <th>1</th>\n",
       "      <td>ACURA</td>\n",
       "      <td>ILX</td>\n",
       "      <td>COMPACT</td>\n",
       "      <td>2.4</td>\n",
       "      <td>4</td>\n",
       "      <td>Manual</td>\n",
       "      <td>Premium Gasoline</td>\n",
       "      <td>11.2</td>\n",
       "      <td>7.7</td>\n",
       "      <td>9.6</td>\n",
       "      <td>29</td>\n",
       "      <td>221</td>\n",
       "    </tr>\n",
       "    <tr>\n",
       "      <th>2</th>\n",
       "      <td>ACURA</td>\n",
       "      <td>ILX HYBRID</td>\n",
       "      <td>COMPACT</td>\n",
       "      <td>1.5</td>\n",
       "      <td>4</td>\n",
       "      <td>Continuously Variable</td>\n",
       "      <td>Premium Gasoline</td>\n",
       "      <td>6.0</td>\n",
       "      <td>5.8</td>\n",
       "      <td>5.9</td>\n",
       "      <td>48</td>\n",
       "      <td>136</td>\n",
       "    </tr>\n",
       "    <tr>\n",
       "      <th>3</th>\n",
       "      <td>ACURA</td>\n",
       "      <td>MDX 4WD</td>\n",
       "      <td>SUV - SMALL</td>\n",
       "      <td>3.5</td>\n",
       "      <td>6</td>\n",
       "      <td>Automatic with Select Shift</td>\n",
       "      <td>Premium Gasoline</td>\n",
       "      <td>12.7</td>\n",
       "      <td>9.1</td>\n",
       "      <td>11.1</td>\n",
       "      <td>25</td>\n",
       "      <td>255</td>\n",
       "    </tr>\n",
       "    <tr>\n",
       "      <th>4</th>\n",
       "      <td>ACURA</td>\n",
       "      <td>RDX AWD</td>\n",
       "      <td>SUV - SMALL</td>\n",
       "      <td>3.5</td>\n",
       "      <td>6</td>\n",
       "      <td>Automatic with Select Shift</td>\n",
       "      <td>Premium Gasoline</td>\n",
       "      <td>12.1</td>\n",
       "      <td>8.7</td>\n",
       "      <td>10.6</td>\n",
       "      <td>27</td>\n",
       "      <td>244</td>\n",
       "    </tr>\n",
       "  </tbody>\n",
       "</table>\n",
       "</div>"
      ],
      "text/plain": [
       "    Make       Model Vehicle Class  Engine Size(L)  Cylinders  \\\n",
       "0  ACURA         ILX       COMPACT             2.0          4   \n",
       "1  ACURA         ILX       COMPACT             2.4          4   \n",
       "2  ACURA  ILX HYBRID       COMPACT             1.5          4   \n",
       "3  ACURA     MDX 4WD   SUV - SMALL             3.5          6   \n",
       "4  ACURA     RDX AWD   SUV - SMALL             3.5          6   \n",
       "\n",
       "                  Transmission         Fuel Type  \\\n",
       "0  Automatic with Select Shift  Premium Gasoline   \n",
       "1                       Manual  Premium Gasoline   \n",
       "2        Continuously Variable  Premium Gasoline   \n",
       "3  Automatic with Select Shift  Premium Gasoline   \n",
       "4  Automatic with Select Shift  Premium Gasoline   \n",
       "\n",
       "   Fuel Consumption City (L/100 km)  Fuel Consumption Hwy (L/100 km)  \\\n",
       "0                               9.9                              6.7   \n",
       "1                              11.2                              7.7   \n",
       "2                               6.0                              5.8   \n",
       "3                              12.7                              9.1   \n",
       "4                              12.1                              8.7   \n",
       "\n",
       "   Fuel Consumption Comb (L/100 km)  Fuel Consumption Comb (mpg)  \\\n",
       "0                               8.5                           33   \n",
       "1                               9.6                           29   \n",
       "2                               5.9                           48   \n",
       "3                              11.1                           25   \n",
       "4                              10.6                           27   \n",
       "\n",
       "   CO2 Emissions(g/km)  \n",
       "0                  196  \n",
       "1                  221  \n",
       "2                  136  \n",
       "3                  255  \n",
       "4                  244  "
      ]
     },
     "execution_count": 29,
     "metadata": {},
     "output_type": "execute_result"
    }
   ],
   "source": [
    "fuel_con.head()"
   ]
  },
  {
   "cell_type": "markdown",
   "metadata": {},
   "source": [
    "## 1. There are total 42 types of car brand.\n",
    "## 2. There are total 2053 unique car model. These neither can be converted into any dummy variable nor it can be used for analysis. So we can drop this column.\n",
    "## 3. There are total 16 types of vehicle class basis on their gross vehicle weight rating (GVWR) and volume index. But there are no data available with exact GVWR or volume index value, so that we can categorise the similar vehicle into a same group. \n",
    "## 4. The 27 type of transmission has been clubed into 5 different transmission without taking the number of clutches into account, as they doesnot affect CO2 emissions.\n",
    "## 5. The 5 type of Fuel Types has been renamed so that it has some meaningful interpretation."
   ]
  },
  {
   "cell_type": "markdown",
   "metadata": {},
   "source": [
    "### ***Frequency Distribution of different Categorical Variables***"
   ]
  },
  {
   "cell_type": "markdown",
   "metadata": {},
   "source": [
    "#### ***1. Feature : Make***"
   ]
  },
  {
   "cell_type": "code",
   "execution_count": 31,
   "metadata": {},
   "outputs": [
    {
     "name": "stdout",
     "output_type": "stream",
     "text": [
      "Collecting tabulate\n",
      "  Downloading tabulate-0.9.0-py3-none-any.whl (35 kB)\n",
      "Installing collected packages: tabulate\n",
      "Successfully installed tabulate-0.9.0\n",
      "Note: you may need to restart the kernel to use updated packages.\n"
     ]
    },
    {
     "name": "stderr",
     "output_type": "stream",
     "text": [
      "WARNING: Ignoring invalid distribution -yio (c:\\programdata\\anaconda3\\lib\\site-packages)\n",
      "WARNING: Ignoring invalid distribution -rkupsafe (c:\\programdata\\anaconda3\\lib\\site-packages)\n",
      "WARNING: Ignoring invalid distribution -ikit-learn (c:\\programdata\\anaconda3\\lib\\site-packages)\n",
      "WARNING: Ignoring invalid distribution -blib (c:\\programdata\\anaconda3\\lib\\site-packages)\n",
      "WARNING: Ignoring invalid distribution -3ikit-learn (c:\\programdata\\anaconda3\\lib\\site-packages)\n",
      "WARNING: Ignoring invalid distribution -2ikit-learn (c:\\programdata\\anaconda3\\lib\\site-packages)\n",
      "WARNING: Ignoring invalid distribution -1ikit-learn (c:\\programdata\\anaconda3\\lib\\site-packages)\n",
      "WARNING: Ignoring invalid distribution -umpy (c:\\programdata\\anaconda3\\lib\\site-packages)\n",
      "WARNING: Ignoring invalid distribution -oblib (c:\\programdata\\anaconda3\\lib\\site-packages)\n",
      "WARNING: Ignoring invalid distribution -nyio (c:\\programdata\\anaconda3\\lib\\site-packages)\n",
      "WARNING: Ignoring invalid distribution -ikit-learn (c:\\programdata\\anaconda3\\lib\\site-packages)\n",
      "WARNING: Ignoring invalid distribution -0ikit-learn (c:\\programdata\\anaconda3\\lib\\site-packages)\n",
      "WARNING: Ignoring invalid distribution - (c:\\programdata\\anaconda3\\lib\\site-packages)\n",
      "WARNING: Ignoring invalid distribution -cikit-learn (c:\\programdata\\anaconda3\\lib\\site-packages)\n",
      "WARNING: Ignoring invalid distribution -blib (c:\\programdata\\anaconda3\\lib\\site-packages)\n",
      "WARNING: Ignoring invalid distribution -arkupsafe (c:\\programdata\\anaconda3\\lib\\site-packages)\n",
      "WARNING: Ignoring invalid distribution -yio (c:\\programdata\\anaconda3\\lib\\site-packages)\n",
      "WARNING: Ignoring invalid distribution -rkupsafe (c:\\programdata\\anaconda3\\lib\\site-packages)\n",
      "WARNING: Ignoring invalid distribution -ikit-learn (c:\\programdata\\anaconda3\\lib\\site-packages)\n",
      "WARNING: Ignoring invalid distribution -blib (c:\\programdata\\anaconda3\\lib\\site-packages)\n",
      "WARNING: Ignoring invalid distribution -3ikit-learn (c:\\programdata\\anaconda3\\lib\\site-packages)\n",
      "WARNING: Ignoring invalid distribution -2ikit-learn (c:\\programdata\\anaconda3\\lib\\site-packages)\n",
      "WARNING: Ignoring invalid distribution -1ikit-learn (c:\\programdata\\anaconda3\\lib\\site-packages)\n",
      "WARNING: Ignoring invalid distribution -umpy (c:\\programdata\\anaconda3\\lib\\site-packages)\n",
      "WARNING: Ignoring invalid distribution -oblib (c:\\programdata\\anaconda3\\lib\\site-packages)\n",
      "WARNING: Ignoring invalid distribution -nyio (c:\\programdata\\anaconda3\\lib\\site-packages)\n",
      "WARNING: Ignoring invalid distribution -ikit-learn (c:\\programdata\\anaconda3\\lib\\site-packages)\n",
      "WARNING: Ignoring invalid distribution -0ikit-learn (c:\\programdata\\anaconda3\\lib\\site-packages)\n",
      "WARNING: Ignoring invalid distribution - (c:\\programdata\\anaconda3\\lib\\site-packages)\n",
      "WARNING: Ignoring invalid distribution -cikit-learn (c:\\programdata\\anaconda3\\lib\\site-packages)\n",
      "WARNING: Ignoring invalid distribution -blib (c:\\programdata\\anaconda3\\lib\\site-packages)\n",
      "WARNING: Ignoring invalid distribution -arkupsafe (c:\\programdata\\anaconda3\\lib\\site-packages)\n",
      "WARNING: Ignoring invalid distribution -yio (c:\\programdata\\anaconda3\\lib\\site-packages)\n",
      "WARNING: Ignoring invalid distribution -rkupsafe (c:\\programdata\\anaconda3\\lib\\site-packages)\n",
      "WARNING: Ignoring invalid distribution -ikit-learn (c:\\programdata\\anaconda3\\lib\\site-packages)\n",
      "WARNING: Ignoring invalid distribution -blib (c:\\programdata\\anaconda3\\lib\\site-packages)\n",
      "WARNING: Ignoring invalid distribution -3ikit-learn (c:\\programdata\\anaconda3\\lib\\site-packages)\n",
      "WARNING: Ignoring invalid distribution -2ikit-learn (c:\\programdata\\anaconda3\\lib\\site-packages)\n",
      "WARNING: Ignoring invalid distribution -1ikit-learn (c:\\programdata\\anaconda3\\lib\\site-packages)\n",
      "WARNING: Ignoring invalid distribution -umpy (c:\\programdata\\anaconda3\\lib\\site-packages)\n",
      "WARNING: Ignoring invalid distribution -oblib (c:\\programdata\\anaconda3\\lib\\site-packages)\n",
      "WARNING: Ignoring invalid distribution -nyio (c:\\programdata\\anaconda3\\lib\\site-packages)\n",
      "WARNING: Ignoring invalid distribution -ikit-learn (c:\\programdata\\anaconda3\\lib\\site-packages)\n",
      "WARNING: Ignoring invalid distribution -0ikit-learn (c:\\programdata\\anaconda3\\lib\\site-packages)\n",
      "WARNING: Ignoring invalid distribution - (c:\\programdata\\anaconda3\\lib\\site-packages)\n",
      "WARNING: Ignoring invalid distribution -cikit-learn (c:\\programdata\\anaconda3\\lib\\site-packages)\n",
      "WARNING: Ignoring invalid distribution -blib (c:\\programdata\\anaconda3\\lib\\site-packages)\n",
      "WARNING: Ignoring invalid distribution -arkupsafe (c:\\programdata\\anaconda3\\lib\\site-packages)\n",
      "WARNING: Ignoring invalid distribution -yio (c:\\programdata\\anaconda3\\lib\\site-packages)\n",
      "WARNING: Ignoring invalid distribution -rkupsafe (c:\\programdata\\anaconda3\\lib\\site-packages)\n",
      "WARNING: Ignoring invalid distribution -ikit-learn (c:\\programdata\\anaconda3\\lib\\site-packages)\n",
      "WARNING: Ignoring invalid distribution -blib (c:\\programdata\\anaconda3\\lib\\site-packages)\n",
      "WARNING: Ignoring invalid distribution -3ikit-learn (c:\\programdata\\anaconda3\\lib\\site-packages)\n",
      "WARNING: Ignoring invalid distribution -2ikit-learn (c:\\programdata\\anaconda3\\lib\\site-packages)\n",
      "WARNING: Ignoring invalid distribution -1ikit-learn (c:\\programdata\\anaconda3\\lib\\site-packages)\n",
      "WARNING: Ignoring invalid distribution -umpy (c:\\programdata\\anaconda3\\lib\\site-packages)\n",
      "WARNING: Ignoring invalid distribution -oblib (c:\\programdata\\anaconda3\\lib\\site-packages)\n",
      "WARNING: Ignoring invalid distribution -nyio (c:\\programdata\\anaconda3\\lib\\site-packages)\n",
      "WARNING: Ignoring invalid distribution -ikit-learn (c:\\programdata\\anaconda3\\lib\\site-packages)\n",
      "WARNING: Ignoring invalid distribution -0ikit-learn (c:\\programdata\\anaconda3\\lib\\site-packages)\n",
      "WARNING: Ignoring invalid distribution - (c:\\programdata\\anaconda3\\lib\\site-packages)\n",
      "WARNING: Ignoring invalid distribution -cikit-learn (c:\\programdata\\anaconda3\\lib\\site-packages)\n",
      "WARNING: Ignoring invalid distribution -blib (c:\\programdata\\anaconda3\\lib\\site-packages)\n",
      "WARNING: Ignoring invalid distribution -arkupsafe (c:\\programdata\\anaconda3\\lib\\site-packages)\n",
      "WARNING: Ignoring invalid distribution -yio (c:\\programdata\\anaconda3\\lib\\site-packages)\n",
      "WARNING: Ignoring invalid distribution -rkupsafe (c:\\programdata\\anaconda3\\lib\\site-packages)\n",
      "WARNING: Ignoring invalid distribution -ikit-learn (c:\\programdata\\anaconda3\\lib\\site-packages)\n",
      "WARNING: Ignoring invalid distribution -blib (c:\\programdata\\anaconda3\\lib\\site-packages)\n",
      "WARNING: Ignoring invalid distribution -3ikit-learn (c:\\programdata\\anaconda3\\lib\\site-packages)\n",
      "WARNING: Ignoring invalid distribution -2ikit-learn (c:\\programdata\\anaconda3\\lib\\site-packages)\n",
      "WARNING: Ignoring invalid distribution -1ikit-learn (c:\\programdata\\anaconda3\\lib\\site-packages)\n",
      "WARNING: Ignoring invalid distribution -umpy (c:\\programdata\\anaconda3\\lib\\site-packages)\n",
      "WARNING: Ignoring invalid distribution -oblib (c:\\programdata\\anaconda3\\lib\\site-packages)\n",
      "WARNING: Ignoring invalid distribution -nyio (c:\\programdata\\anaconda3\\lib\\site-packages)\n",
      "WARNING: Ignoring invalid distribution -ikit-learn (c:\\programdata\\anaconda3\\lib\\site-packages)\n",
      "WARNING: Ignoring invalid distribution -0ikit-learn (c:\\programdata\\anaconda3\\lib\\site-packages)\n",
      "WARNING: Ignoring invalid distribution - (c:\\programdata\\anaconda3\\lib\\site-packages)\n",
      "WARNING: Ignoring invalid distribution -cikit-learn (c:\\programdata\\anaconda3\\lib\\site-packages)\n",
      "WARNING: Ignoring invalid distribution -blib (c:\\programdata\\anaconda3\\lib\\site-packages)\n",
      "WARNING: Ignoring invalid distribution -arkupsafe (c:\\programdata\\anaconda3\\lib\\site-packages)\n",
      "WARNING: Ignoring invalid distribution -yio (c:\\programdata\\anaconda3\\lib\\site-packages)\n",
      "WARNING: Ignoring invalid distribution -rkupsafe (c:\\programdata\\anaconda3\\lib\\site-packages)\n",
      "WARNING: Ignoring invalid distribution -ikit-learn (c:\\programdata\\anaconda3\\lib\\site-packages)\n",
      "WARNING: Ignoring invalid distribution -blib (c:\\programdata\\anaconda3\\lib\\site-packages)\n",
      "WARNING: Ignoring invalid distribution -3ikit-learn (c:\\programdata\\anaconda3\\lib\\site-packages)\n",
      "WARNING: Ignoring invalid distribution -2ikit-learn (c:\\programdata\\anaconda3\\lib\\site-packages)\n",
      "WARNING: Ignoring invalid distribution -1ikit-learn (c:\\programdata\\anaconda3\\lib\\site-packages)\n",
      "WARNING: Ignoring invalid distribution -umpy (c:\\programdata\\anaconda3\\lib\\site-packages)\n",
      "WARNING: Ignoring invalid distribution -oblib (c:\\programdata\\anaconda3\\lib\\site-packages)\n",
      "WARNING: Ignoring invalid distribution -nyio (c:\\programdata\\anaconda3\\lib\\site-packages)\n",
      "WARNING: Ignoring invalid distribution -ikit-learn (c:\\programdata\\anaconda3\\lib\\site-packages)\n",
      "WARNING: Ignoring invalid distribution -0ikit-learn (c:\\programdata\\anaconda3\\lib\\site-packages)\n",
      "WARNING: Ignoring invalid distribution - (c:\\programdata\\anaconda3\\lib\\site-packages)\n",
      "WARNING: Ignoring invalid distribution -cikit-learn (c:\\programdata\\anaconda3\\lib\\site-packages)\n",
      "WARNING: Ignoring invalid distribution -blib (c:\\programdata\\anaconda3\\lib\\site-packages)\n",
      "WARNING: Ignoring invalid distribution -arkupsafe (c:\\programdata\\anaconda3\\lib\\site-packages)\n",
      "WARNING: Ignoring invalid distribution -yio (c:\\programdata\\anaconda3\\lib\\site-packages)\n",
      "WARNING: Ignoring invalid distribution -rkupsafe (c:\\programdata\\anaconda3\\lib\\site-packages)\n",
      "WARNING: Ignoring invalid distribution -ikit-learn (c:\\programdata\\anaconda3\\lib\\site-packages)\n",
      "WARNING: Ignoring invalid distribution -blib (c:\\programdata\\anaconda3\\lib\\site-packages)\n",
      "WARNING: Ignoring invalid distribution -3ikit-learn (c:\\programdata\\anaconda3\\lib\\site-packages)\n",
      "WARNING: Ignoring invalid distribution -2ikit-learn (c:\\programdata\\anaconda3\\lib\\site-packages)\n",
      "WARNING: Ignoring invalid distribution -1ikit-learn (c:\\programdata\\anaconda3\\lib\\site-packages)\n",
      "WARNING: Ignoring invalid distribution -umpy (c:\\programdata\\anaconda3\\lib\\site-packages)\n",
      "WARNING: Ignoring invalid distribution -oblib (c:\\programdata\\anaconda3\\lib\\site-packages)\n",
      "WARNING: Ignoring invalid distribution -nyio (c:\\programdata\\anaconda3\\lib\\site-packages)\n",
      "WARNING: Ignoring invalid distribution -ikit-learn (c:\\programdata\\anaconda3\\lib\\site-packages)\n",
      "WARNING: Ignoring invalid distribution -0ikit-learn (c:\\programdata\\anaconda3\\lib\\site-packages)\n",
      "WARNING: Ignoring invalid distribution - (c:\\programdata\\anaconda3\\lib\\site-packages)\n",
      "WARNING: Ignoring invalid distribution -cikit-learn (c:\\programdata\\anaconda3\\lib\\site-packages)\n",
      "WARNING: Ignoring invalid distribution -blib (c:\\programdata\\anaconda3\\lib\\site-packages)\n",
      "WARNING: Ignoring invalid distribution -arkupsafe (c:\\programdata\\anaconda3\\lib\\site-packages)\n"
     ]
    }
   ],
   "source": [
    "pip install tabulate"
   ]
  },
  {
   "cell_type": "code",
   "execution_count": 32,
   "metadata": {
    "scrolled": false
   },
   "outputs": [
    {
     "name": "stdout",
     "output_type": "stream",
     "text": [
      "Make\n",
      "-------------  ---\n",
      "FORD           628\n",
      "CHEVROLET      588\n",
      "BMW            527\n",
      "MERCEDES-BENZ  419\n",
      "PORSCHE        376\n",
      "TOYOTA         330\n",
      "GMC            328\n",
      "AUDI           286\n",
      "NISSAN         259\n",
      "JEEP           251\n",
      "DODGE          246\n",
      "KIA            231\n",
      "HONDA          214\n",
      "HYUNDAI        210\n",
      "MINI           204\n",
      "VOLKSWAGEN     197\n",
      "MAZDA          180\n",
      "LEXUS          178\n",
      "JAGUAR         160\n",
      "CADILLAC       158\n",
      "SUBARU         140\n",
      "VOLVO          124\n",
      "INFINITI       108\n",
      "BUICK          103\n",
      "RAM             97\n",
      "LINCOLN         96\n",
      "MITSUBISHI      95\n",
      "CHRYSLER        88\n",
      "LAND ROVER      85\n",
      "FIAT            73\n",
      "ACURA           72\n",
      "MASERATI        61\n",
      "ROLLS-ROYCE     50\n",
      "ASTON MARTIN    47\n",
      "BENTLEY         46\n",
      "LAMBORGHINI     41\n",
      "ALFA ROMEO      30\n",
      "GENESIS         25\n",
      "SCION           22\n",
      "SMART            7\n",
      "BUGATTI          3\n",
      "SRT              2\n",
      "-------------  ---\n"
     ]
    }
   ],
   "source": [
    "from tabulate import tabulate\n",
    "print(\"Make\")\n",
    "print(tabulate(pd.DataFrame(fuel_con.Make.value_counts())))"
   ]
  },
  {
   "cell_type": "code",
   "execution_count": 33,
   "metadata": {},
   "outputs": [
    {
     "data": {
      "text/plain": [
       "Make\n",
       "ACURA             72\n",
       "ALFA ROMEO        30\n",
       "ASTON MARTIN      47\n",
       "AUDI             286\n",
       "BENTLEY           46\n",
       "BMW              527\n",
       "BUGATTI            3\n",
       "BUICK            103\n",
       "CADILLAC         158\n",
       "CHEVROLET        588\n",
       "CHRYSLER          88\n",
       "DODGE            246\n",
       "FIAT              73\n",
       "FORD             628\n",
       "GENESIS           25\n",
       "GMC              328\n",
       "HONDA            214\n",
       "HYUNDAI          210\n",
       "INFINITI         108\n",
       "JAGUAR           160\n",
       "JEEP             251\n",
       "KIA              231\n",
       "LAMBORGHINI       41\n",
       "LAND ROVER        85\n",
       "LEXUS            178\n",
       "LINCOLN           96\n",
       "MASERATI          61\n",
       "MAZDA            180\n",
       "MERCEDES-BENZ    419\n",
       "MINI             204\n",
       "MITSUBISHI        95\n",
       "NISSAN           259\n",
       "PORSCHE          376\n",
       "RAM               97\n",
       "ROLLS-ROYCE       50\n",
       "SCION             22\n",
       "SMART              7\n",
       "SRT                2\n",
       "SUBARU           140\n",
       "TOYOTA           330\n",
       "VOLKSWAGEN       197\n",
       "VOLVO            124\n",
       "Name: Make, dtype: int64"
      ]
     },
     "execution_count": 33,
     "metadata": {},
     "output_type": "execute_result"
    }
   ],
   "source": [
    "fuel_con.groupby(\"Make\")[\"Make\"].count()"
   ]
  },
  {
   "cell_type": "code",
   "execution_count": 36,
   "metadata": {},
   "outputs": [
    {
     "data": {
      "image/png": "[encoded data removed]",
      "text/plain": [
       "<Figure size 1368x360 with 1 Axes>"
      ]
     },
     "metadata": {
      "needs_background": "light"
     },
     "output_type": "display_data"
    }
   ],
   "source": [
    "plt.figure(figsize=(19,5));\n",
    "fuel_con.groupby(\"Make\")[\"Make\"].count().sort_values(ascending=False).plot(kind=\"bar\")\n",
    "plt.title(\"Frequency distribution of feature : Make\", fontsize=20)\n",
    "plt.ylabel(\"Frequency\", fontsize=15)\n",
    "plt.xlabel(\"Brand Name\", fontsize=15)\n",
    "plt.xticks(rotation=90)\n",
    "plt.tight_layout()\n",
    "plt.show()"
   ]
  },
  {
   "cell_type": "markdown",
   "metadata": {},
   "source": [
    "#### ***2. Feature : Model***\n",
    "#### *Working with only the Top 20 model.*"
   ]
  },
  {
   "cell_type": "code",
   "execution_count": 37,
   "metadata": {},
   "outputs": [
    {
     "name": "stdout",
     "output_type": "stream",
     "text": [
      "Total Car models: 2053 car models\n",
      "Top 20 car models out of total\n",
      "-------------  --\n",
      "F-150 FFV 4X4  32\n",
      "F-150 FFV      32\n",
      "MUSTANG        27\n",
      "FOCUS FFV      24\n",
      "SONIC          20\n",
      "SONIC 5        20\n",
      "F-150 4X4      20\n",
      "F-150          20\n",
      "ACCORD         19\n",
      "COMPASS        19\n",
      "JETTA          19\n",
      "ATS            19\n",
      "TACOMA 4WD     19\n",
      "SILVERADO 4WD  18\n",
      "FORTE 5        18\n",
      "SILVERADO      18\n",
      "CAMARO         18\n",
      "SIERRA 4WD     18\n",
      "COROLLA        18\n",
      "SIERRA         18\n",
      "-------------  --\n"
     ]
    },
    {
     "data": {
      "image/png": "[encoded data removed]",
      "text/plain": [
       "<Figure size 1368x360 with 1 Axes>"
      ]
     },
     "metadata": {
      "needs_background": "light"
     },
     "output_type": "display_data"
    }
   ],
   "source": [
    "print(f\"Total Car models: {fuel_con.Model.nunique()} car models\")\n",
    "print('Top 20 car models out of total')\n",
    "print(tabulate(pd.DataFrame(fuel_con.Model.value_counts().sort_values(ascending=False)[:20])))\n",
    "\n",
    "plt.figure(figsize=(19,5));\n",
    "fuel_con.groupby(\"Model\")[\"Model\"].count().sort_values(ascending=False)[:20].plot(kind=\"bar\")\n",
    "plt.title(\"Frequency distribution of feature : Car models (Top 20 plotted)\", fontsize=20)\n",
    "plt.ylabel(\"Frequency\", fontsize=15)\n",
    "plt.xlabel(\"Car models\", fontsize=15)\n",
    "plt.xticks(rotation=90)\n",
    "plt.tight_layout()\n",
    "plt.show()"
   ]
  },
  {
   "cell_type": "markdown",
   "metadata": {},
   "source": [
    "#### ***3. Feature : Vehicle Class***"
   ]
  },
  {
   "cell_type": "code",
   "execution_count": 38,
   "metadata": {},
   "outputs": [
    {
     "name": "stdout",
     "output_type": "stream",
     "text": [
      "Vehicle Class\n",
      "------------------------  ----\n",
      "SUV - SMALL               1217\n",
      "MID-SIZE                  1133\n",
      "COMPACT                   1022\n",
      "SUV - STANDARD             735\n",
      "FULL-SIZE                  639\n",
      "SUBCOMPACT                 606\n",
      "PICKUP TRUCK - STANDARD    538\n",
      "TWO-SEATER                 460\n",
      "MINICOMPACT                326\n",
      "STATION WAGON - SMALL      252\n",
      "PICKUP TRUCK - SMALL       159\n",
      "MINIVAN                     80\n",
      "SPECIAL PURPOSE VEHICLE     77\n",
      "VAN - PASSENGER             66\n",
      "STATION WAGON - MID-SIZE    53\n",
      "VAN - CARGO                 22\n",
      "------------------------  ----\n"
     ]
    },
    {
     "data": {
      "image/png": "[encoded data removed]",
      "text/plain": [
       "<Figure size 1368x360 with 1 Axes>"
      ]
     },
     "metadata": {
      "needs_background": "light"
     },
     "output_type": "display_data"
    }
   ],
   "source": [
    "print(\"Vehicle Class\")\n",
    "print(tabulate(pd.DataFrame(fuel_con[\"Vehicle Class\"].value_counts())))\n",
    "\n",
    "plt.figure(figsize=(19,5));\n",
    "fuel_con.groupby(\"Vehicle Class\")[\"Vehicle Class\"].count().sort_values(ascending=False).plot(kind=\"bar\")\n",
    "plt.title(\"Frequency distribution of feature : Vehicle Class\", fontsize=20)\n",
    "plt.ylabel(\"Frequency\", fontsize=15)\n",
    "plt.xlabel(\"Class Type\", fontsize=15)\n",
    "plt.xticks(rotation=45)\n",
    "plt.tight_layout()\n",
    "plt.show()"
   ]
  },
  {
   "cell_type": "markdown",
   "metadata": {},
   "source": [
    "#### ***4. Feature : Transmission*** "
   ]
  },
  {
   "cell_type": "code",
   "execution_count": 39,
   "metadata": {},
   "outputs": [
    {
     "name": "stdout",
     "output_type": "stream",
     "text": [
      "Transmission\n",
      "---------------------------  ----\n",
      "Automatic with Select Shift  3127\n",
      "Automatic                    1851\n",
      "Manual                       1185\n",
      "Automated Manual              646\n",
      "Continuously Variable         576\n",
      "---------------------------  ----\n"
     ]
    },
    {
     "data": {
      "image/png": "[encoded data removed]",
      "text/plain": [
       "<Figure size 1080x360 with 1 Axes>"
      ]
     },
     "metadata": {
      "needs_background": "light"
     },
     "output_type": "display_data"
    }
   ],
   "source": [
    "print(\"Transmission\")\n",
    "print(tabulate(pd.DataFrame(fuel_con.Transmission.value_counts())))\n",
    "\n",
    "plt.figure(figsize=(15,5));\n",
    "fuel_con.groupby(\"Transmission\")[\"Transmission\"].count().sort_values(ascending=False).plot(kind=\"bar\")\n",
    "plt.title(\"Frequency distribution of feature : Transmission\", fontsize=20)\n",
    "plt.ylabel(\"Frequency\", fontsize=15)\n",
    "plt.xlabel(\"Tranmission Type\", fontsize=15)\n",
    "plt.xticks(rotation=45)\n",
    "plt.tight_layout()\n",
    "plt.show()"
   ]
  },
  {
   "cell_type": "markdown",
   "metadata": {},
   "source": [
    "#### ***5. Feature : Fuel Type***"
   ]
  },
  {
   "cell_type": "code",
   "execution_count": 40,
   "metadata": {
    "scrolled": true
   },
   "outputs": [
    {
     "name": "stdout",
     "output_type": "stream",
     "text": [
      "Fuel Type\n",
      "----------------  ----\n",
      "Regular Gasoline  3637\n",
      "Premium Gasoline  3202\n",
      "Ethanol(E85)       370\n",
      "Diesel             175\n",
      "Natural Gas          1\n",
      "----------------  ----\n"
     ]
    },
    {
     "data": {
      "image/png": "[encoded data removed]",
      "text/plain": [
       "<Figure size 1080x360 with 1 Axes>"
      ]
     },
     "metadata": {
      "needs_background": "light"
     },
     "output_type": "display_data"
    }
   ],
   "source": [
    "print(\"Fuel Type\")\n",
    "print(tabulate(pd.DataFrame(fuel_con[\"Fuel Type\"].value_counts())))\n",
    "\n",
    "plt.figure(figsize=(15,5));\n",
    "fuel_con.groupby(\"Fuel Type\")[\"Fuel Type\"].count().sort_values(ascending=False).plot(kind=\"bar\")\n",
    "\n",
    "plt.title(\"Frequency distribution of feature : Fuel Type\", fontsize=20)\n",
    "plt.ylabel(\"Frequency\", fontsize=15)\n",
    "plt.xlabel(\" Fuel Type\", fontsize=15)\n",
    "plt.xticks(rotation=0)\n",
    "plt.tight_layout()\n",
    "plt.show()"
   ]
  },
  {
   "cell_type": "code",
   "execution_count": 48,
   "metadata": {},
   "outputs": [
    {
     "data": {
      "image/png": "[encoded data removed]",
      "text/plain": [
       "<Figure size 432x288 with 1 Axes>"
      ]
     },
     "metadata": {
      "needs_background": "light"
     },
     "output_type": "display_data"
    }
   ],
   "source": [
    "sns.countplot(data=fuel_con,x='Transmission',hue='Fuel Type')\n",
    "plt.xticks(rotation=90)\n",
    "plt.show()"
   ]
  },
  {
   "cell_type": "markdown",
   "metadata": {},
   "source": [
    "## 1. Out of the 42 car brands Ford(628) and Chevrolet(588) are the most dominating ones. Whereas cars of Smart(7), Bugati(3) and SRT(2) are the ones with lowest frequency.\n",
    "## 2. SUV-Small(1217) and MID-Size(1133) vehicles are the most frequent ones on Canadian roads.\n",
    "## 3. Frequency of car with Transmission type Automatic with Select Shift(3127) is the highest and with Continuously Variable Transmission(576) is the lowest.\n",
    "## 4. Car which runs on Gasoline let it be Regular(3637) or Premium(3202) is the most common vehicle type. And cars running on Diesel(175) are very low in frquency and there is only one sample which uses Natural Gases."
   ]
  },
  {
   "cell_type": "markdown",
   "metadata": {},
   "source": [
    "## ***Variation in CO2 emissions with different features***"
   ]
  },
  {
   "cell_type": "markdown",
   "metadata": {},
   "source": [
    "#### ***1. Feature : Make***"
   ]
  },
  {
   "cell_type": "code",
   "execution_count": 54,
   "metadata": {},
   "outputs": [
    {
     "data": {
      "text/html": [
       "<div>\n",
       "<style scoped>\n",
       "    .dataframe tbody tr th:only-of-type {\n",
       "        vertical-align: middle;\n",
       "    }\n",
       "\n",
       "    .dataframe tbody tr th {\n",
       "        vertical-align: top;\n",
       "    }\n",
       "\n",
       "    .dataframe thead th {\n",
       "        text-align: right;\n",
       "    }\n",
       "</style>\n",
       "<table border=\"1\" class=\"dataframe\">\n",
       "  <thead>\n",
       "    <tr style=\"text-align: right;\">\n",
       "      <th></th>\n",
       "      <th>Make</th>\n",
       "      <th>CO2 Emissions(g/km)</th>\n",
       "    </tr>\n",
       "  </thead>\n",
       "  <tbody>\n",
       "    <tr>\n",
       "      <th>5</th>\n",
       "      <td>SCION</td>\n",
       "      <td>200.454545</td>\n",
       "    </tr>\n",
       "    <tr>\n",
       "      <th>6</th>\n",
       "      <td>MITSUBISHI</td>\n",
       "      <td>200.505263</td>\n",
       "    </tr>\n",
       "    <tr>\n",
       "      <th>7</th>\n",
       "      <td>HYUNDAI</td>\n",
       "      <td>208.871429</td>\n",
       "    </tr>\n",
       "    <tr>\n",
       "      <th>8</th>\n",
       "      <td>VOLKSWAGEN</td>\n",
       "      <td>209.335025</td>\n",
       "    </tr>\n",
       "    <tr>\n",
       "      <th>9</th>\n",
       "      <td>KIA</td>\n",
       "      <td>214.294372</td>\n",
       "    </tr>\n",
       "    <tr>\n",
       "      <th>10</th>\n",
       "      <td>SUBARU</td>\n",
       "      <td>217.614286</td>\n",
       "    </tr>\n",
       "    <tr>\n",
       "      <th>11</th>\n",
       "      <td>ACURA</td>\n",
       "      <td>223.652778</td>\n",
       "    </tr>\n",
       "    <tr>\n",
       "      <th>12</th>\n",
       "      <td>TOYOTA</td>\n",
       "      <td>224.424242</td>\n",
       "    </tr>\n",
       "    <tr>\n",
       "      <th>13</th>\n",
       "      <td>ALFA ROMEO</td>\n",
       "      <td>224.900000</td>\n",
       "    </tr>\n",
       "    <tr>\n",
       "      <th>14</th>\n",
       "      <td>VOLVO</td>\n",
       "      <td>230.056452</td>\n",
       "    </tr>\n",
       "    <tr>\n",
       "      <th>15</th>\n",
       "      <td>BUICK</td>\n",
       "      <td>233.058252</td>\n",
       "    </tr>\n",
       "    <tr>\n",
       "      <th>16</th>\n",
       "      <td>NISSAN</td>\n",
       "      <td>236.864865</td>\n",
       "    </tr>\n",
       "    <tr>\n",
       "      <th>17</th>\n",
       "      <td>LEXUS</td>\n",
       "      <td>241.112360</td>\n",
       "    </tr>\n",
       "    <tr>\n",
       "      <th>18</th>\n",
       "      <td>CHRYSLER</td>\n",
       "      <td>246.170455</td>\n",
       "    </tr>\n",
       "    <tr>\n",
       "      <th>19</th>\n",
       "      <td>JEEP</td>\n",
       "      <td>250.342629</td>\n",
       "    </tr>\n",
       "    <tr>\n",
       "      <th>20</th>\n",
       "      <td>AUDI</td>\n",
       "      <td>250.846154</td>\n",
       "    </tr>\n",
       "    <tr>\n",
       "      <th>21</th>\n",
       "      <td>BMW</td>\n",
       "      <td>254.007590</td>\n",
       "    </tr>\n",
       "    <tr>\n",
       "      <th>22</th>\n",
       "      <td>INFINITI</td>\n",
       "      <td>254.064815</td>\n",
       "    </tr>\n",
       "    <tr>\n",
       "      <th>23</th>\n",
       "      <td>PORSCHE</td>\n",
       "      <td>258.941489</td>\n",
       "    </tr>\n",
       "    <tr>\n",
       "      <th>24</th>\n",
       "      <td>FORD</td>\n",
       "      <td>260.988854</td>\n",
       "    </tr>\n",
       "    <tr>\n",
       "      <th>25</th>\n",
       "      <td>CHEVROLET</td>\n",
       "      <td>264.346939</td>\n",
       "    </tr>\n",
       "    <tr>\n",
       "      <th>26</th>\n",
       "      <td>CADILLAC</td>\n",
       "      <td>265.854430</td>\n",
       "    </tr>\n",
       "    <tr>\n",
       "      <th>27</th>\n",
       "      <td>LINCOLN</td>\n",
       "      <td>267.302083</td>\n",
       "    </tr>\n",
       "    <tr>\n",
       "      <th>28</th>\n",
       "      <td>JAGUAR</td>\n",
       "      <td>267.987500</td>\n",
       "    </tr>\n",
       "    <tr>\n",
       "      <th>29</th>\n",
       "      <td>DODGE</td>\n",
       "      <td>276.361789</td>\n",
       "    </tr>\n",
       "    <tr>\n",
       "      <th>30</th>\n",
       "      <td>MERCEDES-BENZ</td>\n",
       "      <td>277.386635</td>\n",
       "    </tr>\n",
       "    <tr>\n",
       "      <th>31</th>\n",
       "      <td>GENESIS</td>\n",
       "      <td>284.840000</td>\n",
       "    </tr>\n",
       "    <tr>\n",
       "      <th>32</th>\n",
       "      <td>LAND ROVER</td>\n",
       "      <td>287.647059</td>\n",
       "    </tr>\n",
       "    <tr>\n",
       "      <th>33</th>\n",
       "      <td>RAM</td>\n",
       "      <td>292.402062</td>\n",
       "    </tr>\n",
       "    <tr>\n",
       "      <th>34</th>\n",
       "      <td>GMC</td>\n",
       "      <td>299.917683</td>\n",
       "    </tr>\n",
       "    <tr>\n",
       "      <th>35</th>\n",
       "      <td>MASERATI</td>\n",
       "      <td>318.147541</td>\n",
       "    </tr>\n",
       "    <tr>\n",
       "      <th>36</th>\n",
       "      <td>ASTON MARTIN</td>\n",
       "      <td>339.617021</td>\n",
       "    </tr>\n",
       "    <tr>\n",
       "      <th>37</th>\n",
       "      <td>BENTLEY</td>\n",
       "      <td>362.934783</td>\n",
       "    </tr>\n",
       "    <tr>\n",
       "      <th>38</th>\n",
       "      <td>ROLLS-ROYCE</td>\n",
       "      <td>388.480000</td>\n",
       "    </tr>\n",
       "    <tr>\n",
       "      <th>39</th>\n",
       "      <td>SRT</td>\n",
       "      <td>389.000000</td>\n",
       "    </tr>\n",
       "    <tr>\n",
       "      <th>40</th>\n",
       "      <td>LAMBORGHINI</td>\n",
       "      <td>400.780488</td>\n",
       "    </tr>\n",
       "    <tr>\n",
       "      <th>41</th>\n",
       "      <td>BUGATTI</td>\n",
       "      <td>522.000000</td>\n",
       "    </tr>\n",
       "  </tbody>\n",
       "</table>\n",
       "</div>"
      ],
      "text/plain": [
       "             Make  CO2 Emissions(g/km)\n",
       "5           SCION           200.454545\n",
       "6      MITSUBISHI           200.505263\n",
       "7         HYUNDAI           208.871429\n",
       "8      VOLKSWAGEN           209.335025\n",
       "9             KIA           214.294372\n",
       "10         SUBARU           217.614286\n",
       "11          ACURA           223.652778\n",
       "12         TOYOTA           224.424242\n",
       "13     ALFA ROMEO           224.900000\n",
       "14          VOLVO           230.056452\n",
       "15          BUICK           233.058252\n",
       "16         NISSAN           236.864865\n",
       "17          LEXUS           241.112360\n",
       "18       CHRYSLER           246.170455\n",
       "19           JEEP           250.342629\n",
       "20           AUDI           250.846154\n",
       "21            BMW           254.007590\n",
       "22       INFINITI           254.064815\n",
       "23        PORSCHE           258.941489\n",
       "24           FORD           260.988854\n",
       "25      CHEVROLET           264.346939\n",
       "26       CADILLAC           265.854430\n",
       "27        LINCOLN           267.302083\n",
       "28         JAGUAR           267.987500\n",
       "29          DODGE           276.361789\n",
       "30  MERCEDES-BENZ           277.386635\n",
       "31        GENESIS           284.840000\n",
       "32     LAND ROVER           287.647059\n",
       "33            RAM           292.402062\n",
       "34            GMC           299.917683\n",
       "35       MASERATI           318.147541\n",
       "36   ASTON MARTIN           339.617021\n",
       "37        BENTLEY           362.934783\n",
       "38    ROLLS-ROYCE           388.480000\n",
       "39            SRT           389.000000\n",
       "40    LAMBORGHINI           400.780488\n",
       "41        BUGATTI           522.000000"
      ]
     },
     "execution_count": 54,
     "metadata": {},
     "output_type": "execute_result"
    }
   ],
   "source": [
    "CO2_make = fuel_con.groupby(['Make'])['CO2 Emissions(g/km)'].mean().sort_values().reset_index()\n",
    "com = CO2_make[CO2_make['CO2 Emissions(g/km)']>200]\n",
    "com"
   ]
  },
  {
   "cell_type": "code",
   "execution_count": 55,
   "metadata": {},
   "outputs": [
    {
     "data": {
      "text/plain": [
       "Text(0, 0.5, 'CO2 Emissions(g/km)')"
      ]
     },
     "execution_count": 55,
     "metadata": {},
     "output_type": "execute_result"
    },
    {
     "data": {
      "image/png": "[encoded data removed]",
      "text/plain": [
       "<Figure size 1440x576 with 1 Axes>"
      ]
     },
     "metadata": {
      "needs_background": "light"
     },
     "output_type": "display_data"
    }
   ],
   "source": [
    "plt.figure(figsize=(20,8))\n",
    "sns.barplot(x = \"Make\",y=\"CO2 Emissions(g/km)\",data = com,\n",
    "            edgecolor=sns.color_palette(\"dark\", 3))\n",
    "plt.title('CO2 Emissions variation with Brand', fontsize=15)\n",
    "plt.xlabel('Brand', fontsize=12)\n",
    "plt.xticks(rotation=90, horizontalalignment='center')\n",
    "plt.ylabel('CO2 Emissions(g/km)', fontsize=12)"
   ]
  },
  {
   "cell_type": "code",
   "execution_count": 56,
   "metadata": {},
   "outputs": [
    {
     "data": {
      "image/png": "[encoded data removed]",
      "text/plain": [
       "<Figure size 1152x504 with 1 Axes>"
      ]
     },
     "metadata": {
      "needs_background": "light"
     },
     "output_type": "display_data"
    }
   ],
   "source": [
    "plt.figure(figsize=(16,7))\n",
    "order = fuel_con.groupby(\"Make\")[\"CO2 Emissions(g/km)\"].median().sort_values(ascending=True).index\n",
    "sns.boxplot(x=\"Make\", y=\"CO2 Emissions(g/km)\", data=fuel_con, order=order, width=0.5)\n",
    "plt.title(\"Distribution of CO2 Emissions in relation to Make\", fontsize=15)\n",
    "plt.xticks(rotation=90, horizontalalignment='center')\n",
    "plt.xlabel(\"Make\", fontsize=12)\n",
    "plt.ylabel(\"CO2 Emissions(g/km)\", fontsize=12)\n",
    "plt.axhline(fuel_con[\"CO2 Emissions(g/km)\"].median(),color='r',linestyle='dashed',linewidth=2)\n",
    "plt.tight_layout()\n",
    "plt.show()"
   ]
  },
  {
   "cell_type": "markdown",
   "metadata": {},
   "source": [
    "## 1. From both the bar graph and the box plot it can be inferred that average CO2 emissions of cars belonging to the brand Bugatti is the highest and cars of SMART has the lowest emissions.\n",
    "## 2. The red line signify the sample mean of CO2 emissions.\n",
    "## 3. Almost 50% of the brand has their median CO2 emissions less than the sample median of CO2 emissions by all the cars."
   ]
  },
  {
   "cell_type": "markdown",
   "metadata": {},
   "source": [
    "#### ***2. Feature : Vehicle Class***"
   ]
  },
  {
   "cell_type": "code",
   "execution_count": 57,
   "metadata": {},
   "outputs": [
    {
     "data": {
      "text/plain": [
       "Text(0, 0.5, 'CO2 Emissions(g/km)')"
      ]
     },
     "execution_count": 57,
     "metadata": {},
     "output_type": "execute_result"
    },
    {
     "data": {
      "image/png": "[encoded data removed]",
      "text/plain": [
       "<Figure size 1440x576 with 1 Axes>"
      ]
     },
     "metadata": {
      "needs_background": "light"
     },
     "output_type": "display_data"
    }
   ],
   "source": [
    "CO2_class = fuel_con.groupby(['Vehicle Class'])['CO2 Emissions(g/km)'].mean().sort_values().reset_index()\n",
    "\n",
    "plt.figure(figsize=(20,8))\n",
    "sns.barplot(x = \"Vehicle Class\",y=\"CO2 Emissions(g/km)\",data = CO2_class,\n",
    "            edgecolor=sns.color_palette(\"dark\", 3))\n",
    "plt.title('CO2 Emissions variation with Vehicle Class', fontsize=15)\n",
    "plt.xlabel('Vehicle Class', fontsize=12)\n",
    "plt.xticks(rotation=90, horizontalalignment='center')\n",
    "plt.ylabel('CO2 Emissions(g/km)', fontsize=12)"
   ]
  },
  {
   "cell_type": "code",
   "execution_count": 58,
   "metadata": {},
   "outputs": [
    {
     "data": {
      "image/png": "[encoded data removed]",
      "text/plain": [
       "<Figure size 1152x504 with 1 Axes>"
      ]
     },
     "metadata": {
      "needs_background": "light"
     },
     "output_type": "display_data"
    }
   ],
   "source": [
    "plt.figure(figsize=(16,7))\n",
    "order = fuel_con.groupby(\"Vehicle Class\")[\"CO2 Emissions(g/km)\"].median().sort_values(ascending=True).index\n",
    "sns.boxplot(x=\"Vehicle Class\", y=\"CO2 Emissions(g/km)\", data=fuel_con, order=order, width=0.5)\n",
    "plt.title(\"Distribution of CO2 Emissions in relation to Vehicle Class\", fontsize=15)\n",
    "plt.xticks(rotation=90, horizontalalignment='center')\n",
    "plt.xlabel(\"Vehicle Class\", fontsize=12)\n",
    "plt.ylabel(\"CO2 Emissions(g/km)\", fontsize=12)\n",
    "plt.axhline(fuel_con[\"CO2 Emissions(g/km)\"].median(),color='r',linestyle='dashed',linewidth=2)\n",
    "plt.tight_layout()\n",
    "plt.show()"
   ]
  },
  {
   "cell_type": "markdown",
   "metadata": {},
   "source": [
    "## 1. The vehicle of class VAN-Passenger followed by VAN-Cargo has the highest CO2 emissions among all. And Station Wagon-Small has the lowest CO2 emissions.\n",
    "## 2. There are 8 types of vehicle class out of 16 which has a median CO2 emissions less than sample median of CO2 emissions and the other 8 has a higher median."
   ]
  },
  {
   "cell_type": "markdown",
   "metadata": {},
   "source": [
    "#### ***3. Feature : Transmission***"
   ]
  },
  {
   "cell_type": "code",
   "execution_count": null,
   "metadata": {},
   "outputs": [],
   "source": [
    "CO2_transmission = fuel_con.groupby([\"Transmission\"])['CO2 Emissions(g/km)'].mean().sort_values().reset_index()\n",
    "\n",
    "plt.figure(figsize=(18,5))\n",
    "sns.barplot(x = \"Transmission\",y=\"CO2 Emissions(g/km)\", data = CO2_transmission,\n",
    "            edgecolor=sns.color_palette(\"dark\", 3))\n",
    "plt.title('CO2 Emissions variation with Transmission', fontsize=15)\n",
    "plt.xlabel('\\nTransmission', fontsize=12)\n",
    "plt.xticks(horizontalalignment='center')\n",
    "plt.ylabel('CO2 Emissions(g/km)', fontsize=12)"
   ]
  },
  {
   "cell_type": "code",
   "execution_count": null,
   "metadata": {},
   "outputs": [],
   "source": [
    "plt.figure(figsize=(16,7))\n",
    "order = fuel_con.groupby(\"Transmission\")[\"CO2 Emissions(g/km)\"].median().sort_values(ascending=True).index\n",
    "sns.boxplot(x=\"Transmission\", y=\"CO2 Emissions(g/km)\", data=fuel_con, order=order, width=0.5)\n",
    "plt.title(\"Distribution of CO2 Emissions in relation to Transmission\", fontsize=15)\n",
    "plt.xlabel(\"\\nTransmission\", fontsize=12)\n",
    "plt.ylabel(\"CO2 Emissions(g/km)\", fontsize=12)\n",
    "plt.axhline(fuel_con[\"CO2 Emissions(g/km)\"].median(),color='r',linestyle='dashed',linewidth=2)\n",
    "plt.tight_layout()\n",
    "plt.show()"
   ]
  },
  {
   "cell_type": "markdown",
   "metadata": {},
   "source": [
    "## 1. Vehicles with Automatic transmission exhibit highest CO2 emissions and vehicle with Continuously Variable Transmission shows the lowest CO2 emissions.\n",
    "## 2. Median CO2 emissions of Automated Manual and Automatic with Select Shift vehicles is almost similar to that of sample median CO2 emissions."
   ]
  },
  {
   "cell_type": "markdown",
   "metadata": {},
   "source": [
    "#### ***4. Feature : Fuel Type***"
   ]
  },
  {
   "cell_type": "code",
   "execution_count": null,
   "metadata": {},
   "outputs": [],
   "source": [
    "CO2_fuel_type = fuel_con.groupby(['Fuel Type'])['CO2 Emissions(g/km)'].mean().sort_values().reset_index()\n",
    "\n",
    "plt.figure(figsize=(15,5))\n",
    "sns.barplot(x = \"Fuel Type\",y=\"CO2 Emissions(g/km)\",data = CO2_fuel_type,\n",
    "            edgecolor=sns.color_palette(\"dark\", 3))\n",
    "plt.title('CO2 Emissions variation with Fuel Type', fontsize=15)\n",
    "plt.xlabel('\\nFuel Type', fontsize=12)\n",
    "plt.ylabel('CO2 Emissions(g/km)', fontsize=12)"
   ]
  },
  {
   "cell_type": "code",
   "execution_count": null,
   "metadata": {},
   "outputs": [],
   "source": [
    "plt.figure(figsize=(16,7))\n",
    "order = fuel_con.groupby(\"Fuel Type\")[\"CO2 Emissions(g/km)\"].median().sort_values(ascending=True).index\n",
    "sns.boxplot(x=\"Fuel Type\", y=\"CO2 Emissions(g/km)\", data=fuel_con, order=order, width=0.5)\n",
    "plt.title(\"Distribution of CO2 Emissions in relation to Fuel Type\", fontsize=15)\n",
    "plt.xticks(rotation=90, horizontalalignment='center')\n",
    "plt.xlabel(\"\\nFuel\", fontsize=12)\n",
    "plt.ylabel(\"CO2 Emissions(g/km)\", fontsize=12)\n",
    "plt.axhline(fuel_con[\"CO2 Emissions(g/km)\"].mean(),color='r',linestyle='dashed',linewidth=2)\n",
    "plt.tight_layout()\n",
    "plt.show()"
   ]
  },
  {
   "cell_type": "markdown",
   "metadata": {},
   "source": [
    "## 1. Cars running on Ethanol(E85) has the highest CO2 emissions with almost all the values hisger than the sample median CO2 emissions.\n",
    "## 2. Natural Gas has the lowest CO2 emissions, but there is only one vehicle that use it as fuel. Other than that Regular Gasoline has the lowest CO2 emissions with almost 75% values less than sample median.\n",
    "## 3. The median CO2 emissions of fuel type Premiuim Gasoline and Diesel has almost similar median to that of the sample median."
   ]
  },
  {
   "cell_type": "markdown",
   "metadata": {},
   "source": [
    "## ***Analysing the Numerical Values***"
   ]
  },
  {
   "cell_type": "markdown",
   "metadata": {},
   "source": [
    "### ***Descriptive Statistics***"
   ]
  },
  {
   "cell_type": "code",
   "execution_count": 59,
   "metadata": {
    "scrolled": true
   },
   "outputs": [
    {
     "data": {
      "text/html": [
       "<div>\n",
       "<style scoped>\n",
       "    .dataframe tbody tr th:only-of-type {\n",
       "        vertical-align: middle;\n",
       "    }\n",
       "\n",
       "    .dataframe tbody tr th {\n",
       "        vertical-align: top;\n",
       "    }\n",
       "\n",
       "    .dataframe thead th {\n",
       "        text-align: right;\n",
       "    }\n",
       "</style>\n",
       "<table border=\"1\" class=\"dataframe\">\n",
       "  <thead>\n",
       "    <tr style=\"text-align: right;\">\n",
       "      <th></th>\n",
       "      <th>mean</th>\n",
       "      <th>std</th>\n",
       "      <th>min</th>\n",
       "      <th>25%</th>\n",
       "      <th>50%</th>\n",
       "      <th>75%</th>\n",
       "      <th>max</th>\n",
       "    </tr>\n",
       "  </thead>\n",
       "  <tbody>\n",
       "    <tr>\n",
       "      <th>Engine Size(L)</th>\n",
       "      <td>3.160068</td>\n",
       "      <td>1.354170</td>\n",
       "      <td>0.9</td>\n",
       "      <td>2.0</td>\n",
       "      <td>3.0</td>\n",
       "      <td>3.7</td>\n",
       "      <td>8.4</td>\n",
       "    </tr>\n",
       "    <tr>\n",
       "      <th>Cylinders</th>\n",
       "      <td>5.615030</td>\n",
       "      <td>1.828307</td>\n",
       "      <td>3.0</td>\n",
       "      <td>4.0</td>\n",
       "      <td>6.0</td>\n",
       "      <td>6.0</td>\n",
       "      <td>16.0</td>\n",
       "    </tr>\n",
       "    <tr>\n",
       "      <th>Fuel Consumption City (L/100 km)</th>\n",
       "      <td>12.556534</td>\n",
       "      <td>3.500274</td>\n",
       "      <td>4.2</td>\n",
       "      <td>10.1</td>\n",
       "      <td>12.1</td>\n",
       "      <td>14.6</td>\n",
       "      <td>30.6</td>\n",
       "    </tr>\n",
       "    <tr>\n",
       "      <th>Fuel Consumption Hwy (L/100 km)</th>\n",
       "      <td>9.041706</td>\n",
       "      <td>2.224456</td>\n",
       "      <td>4.0</td>\n",
       "      <td>7.5</td>\n",
       "      <td>8.7</td>\n",
       "      <td>10.2</td>\n",
       "      <td>20.6</td>\n",
       "    </tr>\n",
       "    <tr>\n",
       "      <th>Fuel Consumption Comb (L/100 km)</th>\n",
       "      <td>10.975071</td>\n",
       "      <td>2.892506</td>\n",
       "      <td>4.1</td>\n",
       "      <td>8.9</td>\n",
       "      <td>10.6</td>\n",
       "      <td>12.6</td>\n",
       "      <td>26.1</td>\n",
       "    </tr>\n",
       "    <tr>\n",
       "      <th>Fuel Consumption Comb (mpg)</th>\n",
       "      <td>27.481652</td>\n",
       "      <td>7.231879</td>\n",
       "      <td>11.0</td>\n",
       "      <td>22.0</td>\n",
       "      <td>27.0</td>\n",
       "      <td>32.0</td>\n",
       "      <td>69.0</td>\n",
       "    </tr>\n",
       "    <tr>\n",
       "      <th>CO2 Emissions(g/km)</th>\n",
       "      <td>250.584699</td>\n",
       "      <td>58.512679</td>\n",
       "      <td>96.0</td>\n",
       "      <td>208.0</td>\n",
       "      <td>246.0</td>\n",
       "      <td>288.0</td>\n",
       "      <td>522.0</td>\n",
       "    </tr>\n",
       "  </tbody>\n",
       "</table>\n",
       "</div>"
      ],
      "text/plain": [
       "                                        mean        std   min    25%    50%  \\\n",
       "Engine Size(L)                      3.160068   1.354170   0.9    2.0    3.0   \n",
       "Cylinders                           5.615030   1.828307   3.0    4.0    6.0   \n",
       "Fuel Consumption City (L/100 km)   12.556534   3.500274   4.2   10.1   12.1   \n",
       "Fuel Consumption Hwy (L/100 km)     9.041706   2.224456   4.0    7.5    8.7   \n",
       "Fuel Consumption Comb (L/100 km)   10.975071   2.892506   4.1    8.9   10.6   \n",
       "Fuel Consumption Comb (mpg)        27.481652   7.231879  11.0   22.0   27.0   \n",
       "CO2 Emissions(g/km)               250.584699  58.512679  96.0  208.0  246.0   \n",
       "\n",
       "                                    75%    max  \n",
       "Engine Size(L)                      3.7    8.4  \n",
       "Cylinders                           6.0   16.0  \n",
       "Fuel Consumption City (L/100 km)   14.6   30.6  \n",
       "Fuel Consumption Hwy (L/100 km)    10.2   20.6  \n",
       "Fuel Consumption Comb (L/100 km)   12.6   26.1  \n",
       "Fuel Consumption Comb (mpg)        32.0   69.0  \n",
       "CO2 Emissions(g/km)               288.0  522.0  "
      ]
     },
     "execution_count": 59,
     "metadata": {},
     "output_type": "execute_result"
    }
   ],
   "source": [
    "stats_ = fuel_con.describe().T.drop([\"count\"], axis=1)\n",
    "stats_"
   ]
  },
  {
   "cell_type": "code",
   "execution_count": 60,
   "metadata": {},
   "outputs": [
    {
     "data": {
      "text/plain": [
       "Engine Size(L)                      0.809181\n",
       "Cylinders                           1.110415\n",
       "Fuel Consumption City (L/100 km)    0.809005\n",
       "Fuel Consumption Hwy (L/100 km)     1.079217\n",
       "Fuel Consumption Comb (L/100 km)    0.893316\n",
       "Fuel Consumption Comb (mpg)         0.977034\n",
       "CO2 Emissions(g/km)                 0.526094\n",
       "dtype: float64"
      ]
     },
     "execution_count": 60,
     "metadata": {},
     "output_type": "execute_result"
    }
   ],
   "source": [
    "fuel_con.skew()"
   ]
  },
  {
   "cell_type": "code",
   "execution_count": 64,
   "metadata": {},
   "outputs": [],
   "source": [
    "stats2 = stats_.copy()\n",
    "stats2['skew'] = fuel_con.skew()"
   ]
  },
  {
   "cell_type": "code",
   "execution_count": 65,
   "metadata": {},
   "outputs": [
    {
     "data": {
      "text/html": [
       "<div>\n",
       "<style scoped>\n",
       "    .dataframe tbody tr th:only-of-type {\n",
       "        vertical-align: middle;\n",
       "    }\n",
       "\n",
       "    .dataframe tbody tr th {\n",
       "        vertical-align: top;\n",
       "    }\n",
       "\n",
       "    .dataframe thead th {\n",
       "        text-align: right;\n",
       "    }\n",
       "</style>\n",
       "<table border=\"1\" class=\"dataframe\">\n",
       "  <thead>\n",
       "    <tr style=\"text-align: right;\">\n",
       "      <th></th>\n",
       "      <th>mean</th>\n",
       "      <th>25%</th>\n",
       "      <th>median</th>\n",
       "      <th>75%</th>\n",
       "      <th>std</th>\n",
       "      <th>skew</th>\n",
       "      <th>min</th>\n",
       "      <th>max</th>\n",
       "    </tr>\n",
       "  </thead>\n",
       "  <tbody>\n",
       "    <tr>\n",
       "      <th>Engine Size(L)</th>\n",
       "      <td>3.160068</td>\n",
       "      <td>2.0</td>\n",
       "      <td>3.0</td>\n",
       "      <td>3.7</td>\n",
       "      <td>1.354170</td>\n",
       "      <td>0.809181</td>\n",
       "      <td>0.9</td>\n",
       "      <td>8.4</td>\n",
       "    </tr>\n",
       "    <tr>\n",
       "      <th>Cylinders</th>\n",
       "      <td>5.615030</td>\n",
       "      <td>4.0</td>\n",
       "      <td>6.0</td>\n",
       "      <td>6.0</td>\n",
       "      <td>1.828307</td>\n",
       "      <td>1.110415</td>\n",
       "      <td>3.0</td>\n",
       "      <td>16.0</td>\n",
       "    </tr>\n",
       "    <tr>\n",
       "      <th>Fuel Consumption City (L/100 km)</th>\n",
       "      <td>12.556534</td>\n",
       "      <td>10.1</td>\n",
       "      <td>12.1</td>\n",
       "      <td>14.6</td>\n",
       "      <td>3.500274</td>\n",
       "      <td>0.809005</td>\n",
       "      <td>4.2</td>\n",
       "      <td>30.6</td>\n",
       "    </tr>\n",
       "    <tr>\n",
       "      <th>Fuel Consumption Hwy (L/100 km)</th>\n",
       "      <td>9.041706</td>\n",
       "      <td>7.5</td>\n",
       "      <td>8.7</td>\n",
       "      <td>10.2</td>\n",
       "      <td>2.224456</td>\n",
       "      <td>1.079217</td>\n",
       "      <td>4.0</td>\n",
       "      <td>20.6</td>\n",
       "    </tr>\n",
       "    <tr>\n",
       "      <th>Fuel Consumption Comb (L/100 km)</th>\n",
       "      <td>10.975071</td>\n",
       "      <td>8.9</td>\n",
       "      <td>10.6</td>\n",
       "      <td>12.6</td>\n",
       "      <td>2.892506</td>\n",
       "      <td>0.893316</td>\n",
       "      <td>4.1</td>\n",
       "      <td>26.1</td>\n",
       "    </tr>\n",
       "    <tr>\n",
       "      <th>Fuel Consumption Comb (mpg)</th>\n",
       "      <td>27.481652</td>\n",
       "      <td>22.0</td>\n",
       "      <td>27.0</td>\n",
       "      <td>32.0</td>\n",
       "      <td>7.231879</td>\n",
       "      <td>0.977034</td>\n",
       "      <td>11.0</td>\n",
       "      <td>69.0</td>\n",
       "    </tr>\n",
       "    <tr>\n",
       "      <th>CO2 Emissions(g/km)</th>\n",
       "      <td>250.584699</td>\n",
       "      <td>208.0</td>\n",
       "      <td>246.0</td>\n",
       "      <td>288.0</td>\n",
       "      <td>58.512679</td>\n",
       "      <td>0.526094</td>\n",
       "      <td>96.0</td>\n",
       "      <td>522.0</td>\n",
       "    </tr>\n",
       "  </tbody>\n",
       "</table>\n",
       "</div>"
      ],
      "text/plain": [
       "                                        mean    25%  median    75%        std  \\\n",
       "Engine Size(L)                      3.160068    2.0     3.0    3.7   1.354170   \n",
       "Cylinders                           5.615030    4.0     6.0    6.0   1.828307   \n",
       "Fuel Consumption City (L/100 km)   12.556534   10.1    12.1   14.6   3.500274   \n",
       "Fuel Consumption Hwy (L/100 km)     9.041706    7.5     8.7   10.2   2.224456   \n",
       "Fuel Consumption Comb (L/100 km)   10.975071    8.9    10.6   12.6   2.892506   \n",
       "Fuel Consumption Comb (mpg)        27.481652   22.0    27.0   32.0   7.231879   \n",
       "CO2 Emissions(g/km)               250.584699  208.0   246.0  288.0  58.512679   \n",
       "\n",
       "                                      skew   min    max  \n",
       "Engine Size(L)                    0.809181   0.9    8.4  \n",
       "Cylinders                         1.110415   3.0   16.0  \n",
       "Fuel Consumption City (L/100 km)  0.809005   4.2   30.6  \n",
       "Fuel Consumption Hwy (L/100 km)   1.079217   4.0   20.6  \n",
       "Fuel Consumption Comb (L/100 km)  0.893316   4.1   26.1  \n",
       "Fuel Consumption Comb (mpg)       0.977034  11.0   69.0  \n",
       "CO2 Emissions(g/km)               0.526094  96.0  522.0  "
      ]
     },
     "execution_count": 65,
     "metadata": {},
     "output_type": "execute_result"
    }
   ],
   "source": [
    "stats2"
   ]
  },
  {
   "cell_type": "code",
   "execution_count": 61,
   "metadata": {},
   "outputs": [
    {
     "name": "stdout",
     "output_type": "stream",
     "text": [
      "                                    mean     25%    median     75%    std    skew    min     max\n",
      "--------------------------------  ------  ------  --------  ------  -----  ------  -----  ------\n",
      "Engine Size(L)                      3.16    2.00      3.00    3.70   1.35    0.81   0.90    8.40\n",
      "Cylinders                           5.62    4.00      6.00    6.00   1.83    1.11   3.00   16.00\n",
      "Fuel Consumption City (L/100 km)   12.56   10.10     12.10   14.60   3.50    0.81   4.20   30.60\n",
      "Fuel Consumption Hwy (L/100 km)     9.04    7.50      8.70   10.20   2.22    1.08   4.00   20.60\n",
      "Fuel Consumption Comb (L/100 km)   10.98    8.90     10.60   12.60   2.89    0.89   4.10   26.10\n",
      "Fuel Consumption Comb (mpg)        27.48   22.00     27.00   32.00   7.23    0.98  11.00   69.00\n",
      "CO2 Emissions(g/km)               250.58  208.00    246.00  288.00  58.51    0.53  96.00  522.00\n"
     ]
    }
   ],
   "source": [
    "stats_ = pd.concat([stats_, fuel_con.skew()], axis=1)\n",
    "stats_.columns = [\"mean\", \"std\", \"min\", \"25%\", \"median\", \"75%\", \"max\", \"skew\"]\n",
    "cols = [\"mean\", \"25%\", \"median\", \"75%\", \"std\", \"skew\", \"min\", \"max\"]\n",
    "stats_ = stats_[cols]\n",
    "print(tabulate(stats_, headers=\"keys\", floatfmt=\".2f\"))"
   ]
  },
  {
   "cell_type": "markdown",
   "metadata": {},
   "source": [
    "## 1. The range of our target CO2 Emissions is between 96 and 522.\n",
    "## 2. Mean CO2 emissions is 250.58 and median is 246.\n",
    "## 3. 25% of the sample points has CO2 emissions within 208 and 75% has within 288.\n",
    "## 4. All the features are positively skewed.\n",
    "## 5. Cylinders and Fuel Consumption Hwy (L/100 km) seems significantly more skewed than the other features.\n",
    "## 6. CO2 Emissions(g/km) is the least skewed feature.\n",
    "## 7. Other than the regressor feature, among the predictors Engine Size(L) and Fuel Consumption City (L/100 km) are the least skewed features."
   ]
  },
  {
   "cell_type": "markdown",
   "metadata": {},
   "source": [
    "### ***To check the shape of the distribution and skewness of each feature***"
   ]
  },
  {
   "cell_type": "code",
   "execution_count": null,
   "metadata": {},
   "outputs": [],
   "source": [
    "for feature in fuel_con.select_dtypes(\"number\").columns:\n",
    "    \n",
    "    plt.figure(figsize=(16,5))\n",
    "    sns.distplot(fuel_con[feature], hist_kws={\"rwidth\": 0.9})\n",
    "    plt.xlim(fuel_con[feature].min(), fuel_con[feature].max())\n",
    "    plt.title(f\"Distribution shape of {feature.capitalize()}\\n\", fontsize=15)\n",
    "    plt.tight_layout()\n",
    "    plt.show()"
   ]
  },
  {
   "cell_type": "markdown",
   "metadata": {},
   "source": [
    "## 1. Cylinder feature has discrete values so it is the most positively skewes distribution.\n",
    "## 2. CO2 Emission in turn is the one which looks more similar to a normally distributed curve than the others."
   ]
  },
  {
   "cell_type": "markdown",
   "metadata": {},
   "source": [
    "### ***To visualize the distribution of the dependent varibale using a Frequency Distribution plot and a Box plot***"
   ]
  },
  {
   "cell_type": "code",
   "execution_count": null,
   "metadata": {},
   "outputs": [],
   "source": [
    "plt.figure(figsize=(16,5))\n",
    "fuel_con[\"CO2 Emissions(g/km)\"].plot(kind=\"hist\", bins=100, rwidth=0.9)\n",
    "plt.title(\"CO2 Emissions(g/km): value distribution\")\n",
    "plt.xlabel(\"CO2 Emissions(g/km)\")\n",
    "plt.tight_layout()\n",
    "plt.show()\n",
    "\n",
    "plt.figure(figsize=(16,5))\n",
    "fuel_con[\"CO2 Emissions(g/km)\"].plot(kind=\"box\", vert=False)\n",
    "plt.title(\"CO2 Emissions(g/km): Frequency distribution\\n\", fontsize=15)\n",
    "plt.xlabel(\"\\nCO2 Emissions(g/km)\")\n",
    "plt.yticks([0], [''])\n",
    "plt.ylabel(\"CO2 Emissions(g/km)\\n\", rotation=90)\n",
    "plt.tight_layout()\n",
    "plt.show()"
   ]
  },
  {
   "cell_type": "markdown",
   "metadata": {},
   "source": [
    "## From the Box plot we can infer\n",
    "## 1. The minimum vale of the CO2 emission is around 96.\n",
    "## 2. The median CO2 emission is 246.\n",
    "## 3. The 25% of the samples have CO2 emission between 96 and 208.\n",
    "## 4. The 75% of the samples have CO2 emission between 96 and 288.\n",
    "## 5. There are no outliers in the lower half but there are outliers in the upper half.\n",
    "## 6. The maximum CO2 emissions observed is 522 which is an outlier.\n",
    "## 7. The distribution of CO2 emissions is positively skewed."
   ]
  },
  {
   "cell_type": "markdown",
   "metadata": {},
   "source": [
    "## ***CORRELATION MATRIX***"
   ]
  },
  {
   "cell_type": "code",
   "execution_count": null,
   "metadata": {},
   "outputs": [],
   "source": [
    "corr = fuel_con.corr()\n",
    "plt.subplots(figsize=(16,16));\n",
    "sns.heatmap(corr, annot=True, cmap=\"RdBu\", square=True)\n",
    "plt.title(\"Correlation matrix of numerical features\")\n",
    "plt.tight_layout()\n",
    "plt.show()"
   ]
  },
  {
   "cell_type": "markdown",
   "metadata": {},
   "source": [
    "1. Fuel Consumption Comb (mpg) is negatively correlated to all the features.\n",
    "2. All the other features are postively correlated with each other.\n",
    "3. Both Fuel Consumption City (L/100 km) and Fuel Consumption Hwy (L/100 km) have very strong positive correlation of 0.99 and 0.98 with Fuel Consumption Comb (L/100 km), since Fuel Consumption Comb (L/100 km) is redundant.\n",
    "4. Our dependent variable CO2 Emissions(g/km) has highest positive correlation of 0.92 with Fuel Consumption City (L/100 km) and Fuel Consumption Comb (L/100 km) and strong negative correlation of -0.91 with Fuel Consumption Comb (mpg). "
   ]
  },
  {
   "cell_type": "markdown",
   "metadata": {},
   "source": [
    "### ***Correlation of independent features with dependent variable***"
   ]
  },
  {
   "cell_type": "code",
   "execution_count": null,
   "metadata": {},
   "outputs": [],
   "source": [
    "plt.figure(figsize=(16,5))\n",
    "corr[\"CO2 Emissions(g/km)\"].sort_values(ascending=True)[:-1].plot(kind=\"barh\")\n",
    "plt.title(\"Correlation of numerical features to CO2 Emissions\\n\", fontsize=15)\n",
    "plt.xlabel(\"\\nCorrelation to CO2 Emissions\")\n",
    "plt.tight_layout()\n",
    "plt.show()"
   ]
  },
  {
   "cell_type": "markdown",
   "metadata": {},
   "source": [
    "## ***Variation in CO2 emissions with different features***"
   ]
  },
  {
   "cell_type": "markdown",
   "metadata": {},
   "source": [
    "#### ***1. Feature : Cylinders***"
   ]
  },
  {
   "cell_type": "code",
   "execution_count": null,
   "metadata": {},
   "outputs": [],
   "source": [
    "CO2_cylinder = fuel_con.groupby(['Cylinders'])['CO2 Emissions(g/km)'].mean().reset_index()\n",
    "\n",
    "plt.figure(figsize=(15,5))\n",
    "sns.barplot(x = \"Cylinders\",y=\"CO2 Emissions(g/km)\",data = CO2_cylinder,\n",
    "            edgecolor=sns.color_palette(\"dark\", 3))\n",
    "plt.title('CO2 Emissions with number of Cylinders\\n', fontsize=15)\n",
    "plt.xlabel('Cylinders', fontsize=12)\n",
    "plt.ylabel('CO2 Emissions(g/km)', fontsize=12)"
   ]
  },
  {
   "cell_type": "code",
   "execution_count": null,
   "metadata": {},
   "outputs": [],
   "source": [
    "fuel_cylinder = fuel_con.groupby(['Cylinders'])['Fuel Consumption Comb (L/100 km)'].mean().reset_index()\n",
    "\n",
    "plt.figure(figsize=(15,5))\n",
    "sns.barplot(x = \"Cylinders\",y=\"Fuel Consumption Comb (L/100 km)\",data = fuel_cylinder,\n",
    "            edgecolor=sns.color_palette(\"dark\", 3))\n",
    "plt.title('Fuel Consumption with number of Cylinders\\n', fontsize=15)\n",
    "plt.xlabel('Cylinders', fontsize=12)\n",
    "plt.ylabel('Fuel Consumption Comb (L/100 km)', fontsize=12)"
   ]
  },
  {
   "cell_type": "code",
   "execution_count": null,
   "metadata": {},
   "outputs": [],
   "source": [
    "plt.figure(figsize=(16,7))\n",
    "order = fuel_con.groupby(\"Cylinders\")[\"CO2 Emissions(g/km)\"].median().sort_values(ascending=True).index\n",
    "sns.boxplot(x=\"Cylinders\", y=\"CO2 Emissions(g/km)\", data=fuel_con, order=order, width=0.5)\n",
    "plt.title(\"Distribution of CO2 Emissions in relation to number of Cylinders\", fontsize=15)\n",
    "plt.xlabel(\"Cylinders\", fontsize=12)\n",
    "plt.ylabel(\"CO2 Emissions(g/km)\", fontsize=12)\n",
    "plt.axhline(fuel_con[\"CO2 Emissions(g/km)\"].median(),color='r',linestyle='dashed',linewidth=2)\n",
    "plt.tight_layout()\n",
    "plt.show()"
   ]
  },
  {
   "cell_type": "markdown",
   "metadata": {},
   "source": [
    "## 1. With increase in number of Cylinders, CO2 emissions also increase proportionally.\n",
    "## 2. The same trend can be observed for Cylinder vs Combined Fuel Consumption. And since Combined Fuel Consumption is strongly postively correlated with CO2 emissions, so with increase in number of cylinders, CO2 emissions also increases.\n",
    "## 3. Vehicles with number of cylinders more than 5 has a median CO2 emissions greater than the sample median CO2 emissions.\n",
    "## 4. Vehicles with less than 6 cylinder have almost all the sample with median CO2 emissions less than sample median.\n",
    "## 5. Whereas vehicles with more than 5 cylinders have almost 100% sample with median CO2 emissions more than the sample median."
   ]
  },
  {
   "cell_type": "markdown",
   "metadata": {},
   "source": [
    "#### ***2. Feature : Engine Size(L)***"
   ]
  },
  {
   "cell_type": "code",
   "execution_count": null,
   "metadata": {},
   "outputs": [],
   "source": [
    "CO2_engine = fuel_con.groupby(['Engine Size(L)'])['CO2 Emissions(g/km)'].mean().reset_index()\n",
    "\n",
    "plt.figure(figsize=(18,8))\n",
    "sns.barplot(x = \"Engine Size(L)\",y=\"CO2 Emissions(g/km)\",data = CO2_engine,\n",
    "            edgecolor=sns.color_palette(\"dark\", 3))\n",
    "plt.title('CO2 Emissions with Engine Size', fontsize=15)\n",
    "plt.xlabel('Engine Size', fontsize=12)\n",
    "plt.ylabel('CO2 Emissions(g/km)', fontsize=12)"
   ]
  },
  {
   "cell_type": "code",
   "execution_count": null,
   "metadata": {},
   "outputs": [],
   "source": [
    "fuel_engine = fuel_con.groupby(['Engine Size(L)'])['Fuel Consumption Comb (L/100 km)'].mean().reset_index()\n",
    "\n",
    "plt.figure(figsize=(20,8))\n",
    "sns.barplot(x = \"Engine Size(L)\",y=\"Fuel Consumption Comb (L/100 km)\",data = fuel_engine,\n",
    "            edgecolor=sns.color_palette(\"dark\", 3))\n",
    "plt.title('Fuel Consumption with Engine Size(L)\\n', fontsize=15)\n",
    "plt.xlabel('Engine Size(L)', fontsize=12)\n",
    "plt.ylabel('Fuel Consumption Comb (L/100 km)', fontsize=12)"
   ]
  },
  {
   "cell_type": "code",
   "execution_count": null,
   "metadata": {},
   "outputs": [],
   "source": [
    "plt.figure(figsize=(16,7))\n",
    "order = fuel_con.groupby(\"Engine Size(L)\")[\"CO2 Emissions(g/km)\"].median().index\n",
    "sns.boxplot(x=\"Engine Size(L)\", y=\"CO2 Emissions(g/km)\", data=fuel_con, order=order, width=0.5)\n",
    "plt.title(\"Distribution of CO2 Emissions in relation to Engine Size(L)\", fontsize = 15)\n",
    "plt.xlabel(\"Engine Size(L)\", fontsize = 12)\n",
    "plt.ylabel(\"CO2 Emissions(g/km)\", fontsize=12)\n",
    "plt.axhline(fuel_con[\"CO2 Emissions(g/km)\"].median(),color='r',linestyle='dashed',linewidth=2)\n",
    "plt.tight_layout()\n",
    "plt.show()"
   ]
  },
  {
   "cell_type": "markdown",
   "metadata": {},
   "source": [
    "## 1. With increase in Engine Size, CO2 emissions also increases.\n",
    "## 2. The same trend can be observed for Engine Size vs Combined Fuel Consumption also. And since Combined Fuel Consumption is strongly postively correlated with CO2 emissions, so as Engine Size increases CO2 emissions also increases.\n",
    "## 3. Vehicles with Engines Size more than 2.5L has a median CO2 emissions greater than or equal to the sample median CO2 emissions."
   ]
  },
  {
   "cell_type": "markdown",
   "metadata": {},
   "source": [
    "#### ***3. Feature : Fuel Consumption City (L/100 km)***"
   ]
  },
  {
   "cell_type": "code",
   "execution_count": null,
   "metadata": {},
   "outputs": [],
   "source": [
    "CO2_city = fuel_con.groupby(['Fuel Consumption City (L/100 km)'])['CO2 Emissions(g/km)'].mean().reset_index()\n",
    "\n",
    "plt.figure(figsize=(25,8))\n",
    "sns.barplot(x = \"Fuel Consumption City (L/100 km)\", y=\"CO2 Emissions(g/km)\",data = CO2_city,\n",
    "            edgecolor=sns.color_palette(\"dark\", 3))\n",
    "plt.title('CO2 Emissions with Fuel Consumption City (L/100 km)', fontsize=15)\n",
    "plt.xlabel('Fuel Consumption City (L/100 km)', fontsize=12)\n",
    "plt.xticks(rotation=90, horizontalalignment='center', fontweight='light', fontsize='7')\n",
    "plt.ylabel('CO2 Emissions(g/km)', fontsize=12)"
   ]
  },
  {
   "cell_type": "markdown",
   "metadata": {},
   "source": [
    "#### ***4. Feature : Fuel Consumption Hwy (L/100 km)***"
   ]
  },
  {
   "cell_type": "code",
   "execution_count": null,
   "metadata": {},
   "outputs": [],
   "source": [
    "CO2_hwy = fuel_con.groupby(['Fuel Consumption Hwy (L/100 km)'])['CO2 Emissions(g/km)'].mean().reset_index()\n",
    "\n",
    "plt.figure(figsize=(25,8))\n",
    "sns.barplot(x = \"Fuel Consumption Hwy (L/100 km)\", y=\"CO2 Emissions(g/km)\",data = CO2_hwy,\n",
    "            edgecolor=sns.color_palette(\"dark\", 3))\n",
    "plt.title('CO2 Emissions with Fuel Consumption Hwy (L/100 km)', fontsize=15)\n",
    "plt.xlabel('Fuel Consumption Hwy (L/100 km)', fontsize=12)\n",
    "plt.xticks(rotation=90, horizontalalignment='center', fontweight='light', fontsize='7')\n",
    "plt.ylabel('CO2 Emissions(g/km)', fontsize=12)"
   ]
  },
  {
   "cell_type": "markdown",
   "metadata": {},
   "source": [
    "#### ***5. Feature : Fuel Consumption Comb (L/100 km)***"
   ]
  },
  {
   "cell_type": "code",
   "execution_count": null,
   "metadata": {},
   "outputs": [],
   "source": [
    "CO2_comb = fuel_con.groupby(['Fuel Consumption Comb (L/100 km)'])['CO2 Emissions(g/km)'].mean().reset_index()\n",
    "\n",
    "plt.figure(figsize=(25,8))\n",
    "sns.barplot(x = \"Fuel Consumption Comb (L/100 km)\", y=\"CO2 Emissions(g/km)\",data = CO2_comb,\n",
    "            edgecolor=sns.color_palette(\"dark\", 3))\n",
    "plt.title('CO2 Emissions with Fuel Consumption Comb (L/100 km)', fontsize=15)\n",
    "plt.xlabel('Fuel Consumption Comb (L/100 km)', fontsize=12)\n",
    "plt.xticks(rotation=90, horizontalalignment='center', fontweight='light', fontsize='7')\n",
    "plt.ylabel('CO2 Emissions(g/km)', fontsize=12)"
   ]
  },
  {
   "cell_type": "markdown",
   "metadata": {},
   "source": [
    "## 1. With the increase in fuel consumption the CO2 emissions also increases.\n",
    "## 2. From the plots we can see almost an linear increase in CO2 emissions with Fuel Consumption, as they are highly postively correlated.\n",
    "## 3. The same trend can be observed in all the three features representing Fuel Consumption in (L/100 km)."
   ]
  },
  {
   "cell_type": "markdown",
   "metadata": {},
   "source": [
    "#### ***6. Feature : Fuel Consumption Comb (mpg)***"
   ]
  },
  {
   "cell_type": "code",
   "execution_count": null,
   "metadata": {},
   "outputs": [],
   "source": [
    "CO2_comb_mpg = fuel_con.groupby(['Fuel Consumption Comb (mpg)'])['CO2 Emissions(g/km)'].mean().reset_index()\n",
    "\n",
    "plt.figure(figsize=(25,8))\n",
    "sns.barplot(x = \"Fuel Consumption Comb (mpg)\", y=\"CO2 Emissions(g/km)\",data = CO2_comb_mpg,\n",
    "            edgecolor=sns.color_palette(\"dark\", 3))\n",
    "plt.title('CO2 Emissions with Fuel Consumption Comb (mpg)', fontsize=15)\n",
    "plt.xlabel('Fuel Consumption Comb (mpg)', fontsize=12)\n",
    "plt.xticks(rotation=90, horizontalalignment='center', fontweight='light', fontsize='12')\n",
    "plt.ylabel('CO2 Emissions(g/km)', fontsize=12)"
   ]
  },
  {
   "cell_type": "markdown",
   "metadata": {},
   "source": [
    "## 1. As infered from the correlation matrix that CO2 Emission and Fuel Consumption Comb(mpg) are strongly negatively correlated. \n",
    "## 2. The feature Fuel Consumption Comb(mpg) shows how many miles a car can go with one gallon of fuel. So less mile per gallon represents more fuel consumption. So it is logical to have negative correlation with CO2 emissions.\n",
    "## 3. So as Fuel Consumption Comb(mpg) decreases, CO2 emissios increases."
   ]
  }
 ],
 "metadata": {
  "kernelspec": {
   "display_name": "Python 3 (ipykernel)",
   "language": "python",
   "name": "python3"
  },
  "language_info": {
   "codemirror_mode": {
    "name": "ipython",
    "version": 3
   },
   "file_extension": ".py",
   "mimetype": "text/x-python",
   "name": "python",
   "nbconvert_exporter": "python",
   "pygments_lexer": "ipython3",
   "version": "3.9.7"
  }
 },
 "nbformat": 4,
 "nbformat_minor": 4
}
