{
 "cells": [
  {
   "cell_type": "code",
   "execution_count": 1,
   "id": "fbabf158",
   "metadata": {},
   "outputs": [],
   "source": [
    "import numpy as np\n",
    "import pandas as pd\n",
    "\n",
    "import matplotlib.pyplot as plt"
   ]
  },
  {
   "cell_type": "code",
   "execution_count": 2,
   "id": "039fce12",
   "metadata": {
    "scrolled": true
   },
   "outputs": [
    {
     "data": {
      "text/html": [
       "<div>\n",
       "<style scoped>\n",
       "    .dataframe tbody tr th:only-of-type {\n",
       "        vertical-align: middle;\n",
       "    }\n",
       "\n",
       "    .dataframe tbody tr th {\n",
       "        vertical-align: top;\n",
       "    }\n",
       "\n",
       "    .dataframe thead th {\n",
       "        text-align: right;\n",
       "    }\n",
       "</style>\n",
       "<table border=\"1\" class=\"dataframe\">\n",
       "  <thead>\n",
       "    <tr style=\"text-align: right;\">\n",
       "      <th></th>\n",
       "      <th>TimesPregnant</th>\n",
       "      <th>GlucoseConcentration</th>\n",
       "      <th>BloodPrs</th>\n",
       "      <th>SkinThickness</th>\n",
       "      <th>Serum</th>\n",
       "      <th>BMI</th>\n",
       "      <th>DiabetesFunct</th>\n",
       "      <th>Age</th>\n",
       "      <th>Class</th>\n",
       "    </tr>\n",
       "  </thead>\n",
       "  <tbody>\n",
       "    <tr>\n",
       "      <th>0</th>\n",
       "      <td>6</td>\n",
       "      <td>148</td>\n",
       "      <td>72</td>\n",
       "      <td>35</td>\n",
       "      <td>0</td>\n",
       "      <td>33.6</td>\n",
       "      <td>0.627</td>\n",
       "      <td>50</td>\n",
       "      <td>1</td>\n",
       "    </tr>\n",
       "    <tr>\n",
       "      <th>1</th>\n",
       "      <td>1</td>\n",
       "      <td>85</td>\n",
       "      <td>66</td>\n",
       "      <td>29</td>\n",
       "      <td>0</td>\n",
       "      <td>26.6</td>\n",
       "      <td>0.351</td>\n",
       "      <td>31</td>\n",
       "      <td>0</td>\n",
       "    </tr>\n",
       "  </tbody>\n",
       "</table>\n",
       "</div>"
      ],
      "text/plain": [
       "   TimesPregnant  GlucoseConcentration  BloodPrs  SkinThickness  Serum   BMI  \\\n",
       "0              6                   148        72             35      0  33.6   \n",
       "1              1                    85        66             29      0  26.6   \n",
       "\n",
       "   DiabetesFunct  Age  Class  \n",
       "0          0.627   50      1  \n",
       "1          0.351   31      0  "
      ]
     },
     "execution_count": 2,
     "metadata": {},
     "output_type": "execute_result"
    }
   ],
   "source": [
    "df = pd.read_csv('https://raw.githubusercontent.com/hakimyameen/Datasets/main/PimaIndiansDiabetes.csv')\n",
    "df.head(2)"
   ]
  },
  {
   "cell_type": "code",
   "execution_count": 3,
   "id": "f47bc313",
   "metadata": {},
   "outputs": [
    {
     "data": {
      "text/html": [
       "<div>\n",
       "<style scoped>\n",
       "    .dataframe tbody tr th:only-of-type {\n",
       "        vertical-align: middle;\n",
       "    }\n",
       "\n",
       "    .dataframe tbody tr th {\n",
       "        vertical-align: top;\n",
       "    }\n",
       "\n",
       "    .dataframe thead th {\n",
       "        text-align: right;\n",
       "    }\n",
       "</style>\n",
       "<table border=\"1\" class=\"dataframe\">\n",
       "  <thead>\n",
       "    <tr style=\"text-align: right;\">\n",
       "      <th></th>\n",
       "      <th>count</th>\n",
       "      <th>mean</th>\n",
       "      <th>std</th>\n",
       "      <th>min</th>\n",
       "      <th>25%</th>\n",
       "      <th>50%</th>\n",
       "      <th>75%</th>\n",
       "      <th>max</th>\n",
       "    </tr>\n",
       "  </thead>\n",
       "  <tbody>\n",
       "    <tr>\n",
       "      <th>TimesPregnant</th>\n",
       "      <td>768.0</td>\n",
       "      <td>3.845052</td>\n",
       "      <td>3.369578</td>\n",
       "      <td>0.000</td>\n",
       "      <td>1.00000</td>\n",
       "      <td>3.0000</td>\n",
       "      <td>6.00000</td>\n",
       "      <td>17.00</td>\n",
       "    </tr>\n",
       "    <tr>\n",
       "      <th>GlucoseConcentration</th>\n",
       "      <td>768.0</td>\n",
       "      <td>120.894531</td>\n",
       "      <td>31.972618</td>\n",
       "      <td>0.000</td>\n",
       "      <td>99.00000</td>\n",
       "      <td>117.0000</td>\n",
       "      <td>140.25000</td>\n",
       "      <td>199.00</td>\n",
       "    </tr>\n",
       "    <tr>\n",
       "      <th>BloodPrs</th>\n",
       "      <td>768.0</td>\n",
       "      <td>69.105469</td>\n",
       "      <td>19.355807</td>\n",
       "      <td>0.000</td>\n",
       "      <td>62.00000</td>\n",
       "      <td>72.0000</td>\n",
       "      <td>80.00000</td>\n",
       "      <td>122.00</td>\n",
       "    </tr>\n",
       "    <tr>\n",
       "      <th>SkinThickness</th>\n",
       "      <td>768.0</td>\n",
       "      <td>20.536458</td>\n",
       "      <td>15.952218</td>\n",
       "      <td>0.000</td>\n",
       "      <td>0.00000</td>\n",
       "      <td>23.0000</td>\n",
       "      <td>32.00000</td>\n",
       "      <td>99.00</td>\n",
       "    </tr>\n",
       "    <tr>\n",
       "      <th>Serum</th>\n",
       "      <td>768.0</td>\n",
       "      <td>79.799479</td>\n",
       "      <td>115.244002</td>\n",
       "      <td>0.000</td>\n",
       "      <td>0.00000</td>\n",
       "      <td>30.5000</td>\n",
       "      <td>127.25000</td>\n",
       "      <td>846.00</td>\n",
       "    </tr>\n",
       "    <tr>\n",
       "      <th>BMI</th>\n",
       "      <td>768.0</td>\n",
       "      <td>31.992578</td>\n",
       "      <td>7.884160</td>\n",
       "      <td>0.000</td>\n",
       "      <td>27.30000</td>\n",
       "      <td>32.0000</td>\n",
       "      <td>36.60000</td>\n",
       "      <td>67.10</td>\n",
       "    </tr>\n",
       "    <tr>\n",
       "      <th>DiabetesFunct</th>\n",
       "      <td>768.0</td>\n",
       "      <td>0.471876</td>\n",
       "      <td>0.331329</td>\n",
       "      <td>0.078</td>\n",
       "      <td>0.24375</td>\n",
       "      <td>0.3725</td>\n",
       "      <td>0.62625</td>\n",
       "      <td>2.42</td>\n",
       "    </tr>\n",
       "    <tr>\n",
       "      <th>Age</th>\n",
       "      <td>768.0</td>\n",
       "      <td>33.240885</td>\n",
       "      <td>11.760232</td>\n",
       "      <td>21.000</td>\n",
       "      <td>24.00000</td>\n",
       "      <td>29.0000</td>\n",
       "      <td>41.00000</td>\n",
       "      <td>81.00</td>\n",
       "    </tr>\n",
       "    <tr>\n",
       "      <th>Class</th>\n",
       "      <td>768.0</td>\n",
       "      <td>0.348958</td>\n",
       "      <td>0.476951</td>\n",
       "      <td>0.000</td>\n",
       "      <td>0.00000</td>\n",
       "      <td>0.0000</td>\n",
       "      <td>1.00000</td>\n",
       "      <td>1.00</td>\n",
       "    </tr>\n",
       "  </tbody>\n",
       "</table>\n",
       "</div>"
      ],
      "text/plain": [
       "                      count        mean         std     min       25%  \\\n",
       "TimesPregnant         768.0    3.845052    3.369578   0.000   1.00000   \n",
       "GlucoseConcentration  768.0  120.894531   31.972618   0.000  99.00000   \n",
       "BloodPrs              768.0   69.105469   19.355807   0.000  62.00000   \n",
       "SkinThickness         768.0   20.536458   15.952218   0.000   0.00000   \n",
       "Serum                 768.0   79.799479  115.244002   0.000   0.00000   \n",
       "BMI                   768.0   31.992578    7.884160   0.000  27.30000   \n",
       "DiabetesFunct         768.0    0.471876    0.331329   0.078   0.24375   \n",
       "Age                   768.0   33.240885   11.760232  21.000  24.00000   \n",
       "Class                 768.0    0.348958    0.476951   0.000   0.00000   \n",
       "\n",
       "                           50%        75%     max  \n",
       "TimesPregnant           3.0000    6.00000   17.00  \n",
       "GlucoseConcentration  117.0000  140.25000  199.00  \n",
       "BloodPrs               72.0000   80.00000  122.00  \n",
       "SkinThickness          23.0000   32.00000   99.00  \n",
       "Serum                  30.5000  127.25000  846.00  \n",
       "BMI                    32.0000   36.60000   67.10  \n",
       "DiabetesFunct           0.3725    0.62625    2.42  \n",
       "Age                    29.0000   41.00000   81.00  \n",
       "Class                   0.0000    1.00000    1.00  "
      ]
     },
     "execution_count": 3,
     "metadata": {},
     "output_type": "execute_result"
    }
   ],
   "source": [
    "df.describe().T"
   ]
  },
  {
   "cell_type": "code",
   "execution_count": null,
   "id": "977f96a0",
   "metadata": {},
   "outputs": [],
   "source": [
    "# Histogram/ Hist Plot\n",
    "# Univariate plot\n",
    "# Used to display rangewise data\n",
    "# Percentage: 45-55-75-85-100"
   ]
  },
  {
   "cell_type": "code",
   "execution_count": 4,
   "id": "1e4a37b2",
   "metadata": {},
   "outputs": [
    {
     "data": {
      "text/plain": [
       "(array([ 35.,   1.,   2.,  13., 107., 261., 243.,  87.,  14.,   5.]),\n",
       " array([  0. ,  12.2,  24.4,  36.6,  48.8,  61. ,  73.2,  85.4,  97.6,\n",
       "        109.8, 122. ]),\n",
       " <BarContainer object of 10 artists>)"
      ]
     },
     "execution_count": 4,
     "metadata": {},
     "output_type": "execute_result"
    },
    {
     "data": {
      "image/png": "[encoded data removed]",
      "text/plain": [
       "<Figure size 432x288 with 1 Axes>"
      ]
     },
     "metadata": {
      "needs_background": "light"
     },
     "output_type": "display_data"
    }
   ],
   "source": [
    "plt.hist(df['BloodPrs'])"
   ]
  },
  {
   "cell_type": "code",
   "execution_count": 8,
   "id": "7240894f",
   "metadata": {},
   "outputs": [
    {
     "data": {
      "text/plain": [
       "(array([  3.,  12., 267., 245., 189.,  15.]),\n",
       " array([ 30,  40,  50,  70,  80, 100, 120]),\n",
       " <BarContainer object of 6 artists>)"
      ]
     },
     "execution_count": 8,
     "metadata": {},
     "output_type": "execute_result"
    },
    {
     "data": {
      "image/png": "[encoded data removed]",
      "text/plain": [
       "<Figure size 432x288 with 1 Axes>"
      ]
     },
     "metadata": {
      "needs_background": "light"
     },
     "output_type": "display_data"
    }
   ],
   "source": [
    "# specify ur own range\n",
    "plt.hist(df['BloodPrs'],bins=[30,40,50,70,80,100,120],color='red',alpha=.4)"
   ]
  },
  {
   "cell_type": "code",
   "execution_count": 11,
   "id": "68ba2391",
   "metadata": {},
   "outputs": [
    {
     "data": {
      "image/png": "[encoded data removed]",
      "text/plain": [
       "<Figure size 432x288 with 1 Axes>"
      ]
     },
     "metadata": {
      "needs_background": "light"
     },
     "output_type": "display_data"
    }
   ],
   "source": [
    "# skip extra information about plot\n",
    "plt.hist(df['BloodPrs'],bins=[30,40,50,70,80,100,120],color='red',alpha=.4,\n",
    "        label='Bp range')\n",
    "plt.legend()\n",
    "plt.show()"
   ]
  },
  {
   "cell_type": "code",
   "execution_count": 15,
   "id": "ab9e0586",
   "metadata": {},
   "outputs": [
    {
     "data": {
      "image/png": "[encoded data removed]",
      "text/plain": [
       "<Figure size 864x720 with 9 Axes>"
      ]
     },
     "metadata": {
      "needs_background": "light"
     },
     "output_type": "display_data"
    }
   ],
   "source": [
    "# to get histogram on all numeric columns\n",
    "\n",
    "df.hist(figsize=(12,10))\n",
    "plt.show()"
   ]
  },
  {
   "cell_type": "code",
   "execution_count": 18,
   "id": "02a84f0b",
   "metadata": {},
   "outputs": [
    {
     "data": {
      "text/plain": [
       "0    500\n",
       "1    268\n",
       "Name: Class, dtype: int64"
      ]
     },
     "execution_count": 18,
     "metadata": {},
     "output_type": "execute_result"
    }
   ],
   "source": [
    "data1 = df['Class'].value_counts()\n",
    "data1"
   ]
  },
  {
   "cell_type": "markdown",
   "id": "2f71374c",
   "metadata": {},
   "source": [
    "## barplot\n",
    "- Bivariate\n",
    "- Category(X axis) vs count(Y axis) display"
   ]
  },
  {
   "cell_type": "code",
   "execution_count": 19,
   "id": "dffdb801",
   "metadata": {},
   "outputs": [
    {
     "data": {
      "text/plain": [
       "Int64Index([0, 1], dtype='int64')"
      ]
     },
     "execution_count": 19,
     "metadata": {},
     "output_type": "execute_result"
    }
   ],
   "source": [
    "data1.index # x"
   ]
  },
  {
   "cell_type": "code",
   "execution_count": 20,
   "id": "e74e633e",
   "metadata": {},
   "outputs": [
    {
     "data": {
      "text/plain": [
       "array([500, 268], dtype=int64)"
      ]
     },
     "execution_count": 20,
     "metadata": {},
     "output_type": "execute_result"
    }
   ],
   "source": [
    "data1.values # y"
   ]
  },
  {
   "cell_type": "code",
   "execution_count": 33,
   "id": "12b75373",
   "metadata": {},
   "outputs": [
    {
     "data": {
      "image/png": "[encoded data removed]",
      "text/plain": [
       "<Figure size 432x288 with 1 Axes>"
      ]
     },
     "metadata": {
      "needs_background": "light"
     },
     "output_type": "display_data"
    }
   ],
   "source": [
    "plt.bar([0,1],data1.values,width=0.4,color=['magenta','yellow'])\n",
    "plt.xticks([0,1],['Non-Diabetic','Diabetic'],rotation=90);"
   ]
  },
  {
   "cell_type": "code",
   "execution_count": 28,
   "id": "e9f29726",
   "metadata": {},
   "outputs": [
    {
     "data": {
      "text/plain": [
       "<BarContainer object of 2 artists>"
      ]
     },
     "execution_count": 28,
     "metadata": {},
     "output_type": "execute_result"
    },
    {
     "data": {
      "image/png": "[encoded data removed]",
      "text/plain": [
       "<Figure size 432x288 with 1 Axes>"
      ]
     },
     "metadata": {
      "needs_background": "light"
     },
     "output_type": "display_data"
    }
   ],
   "source": [
    "plt.bar(['0','1'],[500,268])"
   ]
  },
  {
   "cell_type": "raw",
   "id": "fad4f55c",
   "metadata": {},
   "source": [
    "# Assignment: Add  2 barplots in singple graph \n",
    "# solve 4 problem"
   ]
  },
  {
   "cell_type": "markdown",
   "id": "37339408",
   "metadata": {},
   "source": [
    "## Horizontal Bar plot"
   ]
  },
  {
   "cell_type": "code",
   "execution_count": 34,
   "id": "596e5312",
   "metadata": {},
   "outputs": [
    {
     "data": {
      "text/plain": [
       "<BarContainer object of 2 artists>"
      ]
     },
     "execution_count": 34,
     "metadata": {},
     "output_type": "execute_result"
    },
    {
     "data": {
      "image/png": "[encoded data removed]",
      "text/plain": [
       "<Figure size 432x288 with 1 Axes>"
      ]
     },
     "metadata": {
      "needs_background": "light"
     },
     "output_type": "display_data"
    }
   ],
   "source": [
    "plt.barh(['0','1'],[500,268])"
   ]
  },
  {
   "cell_type": "code",
   "execution_count": 37,
   "id": "da663066",
   "metadata": {},
   "outputs": [
    {
     "data": {
      "text/plain": [
       "array([ 6,  1,  8,  0,  5,  3, 10,  2,  4,  7,  9, 11, 13, 15, 17, 12, 14],\n",
       "      dtype=int64)"
      ]
     },
     "execution_count": 37,
     "metadata": {},
     "output_type": "execute_result"
    }
   ],
   "source": [
    "df.TimesPregnant.unique()"
   ]
  },
  {
   "cell_type": "raw",
   "id": "16807c6b",
   "metadata": {},
   "source": [
    "# Assignment: Do Barh plottiing on above column"
   ]
  },
  {
   "cell_type": "markdown",
   "id": "5c3c0ed1",
   "metadata": {},
   "source": [
    "### Pie Plot"
   ]
  },
  {
   "cell_type": "markdown",
   "id": "32d56cbd",
   "metadata": {},
   "source": [
    "- Univariate\n",
    "- Use to display %wise distribustion"
   ]
  },
  {
   "cell_type": "code",
   "execution_count": 39,
   "id": "d517f98a",
   "metadata": {},
   "outputs": [
    {
     "data": {
      "text/plain": [
       "0    500\n",
       "1    268\n",
       "Name: Class, dtype: int64"
      ]
     },
     "execution_count": 39,
     "metadata": {},
     "output_type": "execute_result"
    }
   ],
   "source": [
    "data1"
   ]
  },
  {
   "cell_type": "code",
   "execution_count": 45,
   "id": "e4c6a2d4",
   "metadata": {},
   "outputs": [
    {
     "data": {
      "image/png": "[encoded data removed]",
      "text/plain": [
       "<Figure size 432x288 with 1 Axes>"
      ]
     },
     "metadata": {},
     "output_type": "display_data"
    }
   ],
   "source": [
    "plt.pie(data1.values,labels=['Non-Diabetic','Diabetic'],autopct='%.f%%');\n",
    "# labels will give the names to pies\n",
    "# autopct: calculates % of each pie and display it"
   ]
  },
  {
   "cell_type": "code",
   "execution_count": 47,
   "id": "cabd6a35",
   "metadata": {},
   "outputs": [
    {
     "data": {
      "image/png": "[encoded data removed]",
      "text/plain": [
       "<Figure size 432x288 with 1 Axes>"
      ]
     },
     "metadata": {},
     "output_type": "display_data"
    }
   ],
   "source": [
    "plt.pie(data1.values,labels=['Non-Diabetic','Diabetic'],autopct='%.f%%',\n",
    "       explode=[0,0.2]);"
   ]
  },
  {
   "cell_type": "markdown",
   "id": "d7ba6e6d",
   "metadata": {},
   "source": [
    "## Scater plot"
   ]
  },
  {
   "cell_type": "raw",
   "id": "25ce8f87",
   "metadata": {},
   "source": [
    "- Bivariate plot\n",
    "- To show data distribustion\n",
    "- its a plot with markers"
   ]
  },
  {
   "cell_type": "code",
   "execution_count": 56,
   "id": "040a7e3d",
   "metadata": {},
   "outputs": [
    {
     "data": {
      "text/plain": [
       "array(['0', '1', '2', '3', '4', '5', '6', '7', '8', '9', '10', '11', '12',\n",
       "       '13', '14', '15', '17'], dtype='<U21')"
      ]
     },
     "execution_count": 56,
     "metadata": {},
     "output_type": "execute_result"
    }
   ],
   "source": [
    "tp = df.TimesPregnant.unique()\n",
    "np.sort(tp).astype(str)"
   ]
  },
  {
   "cell_type": "code",
   "execution_count": 60,
   "id": "da999175",
   "metadata": {},
   "outputs": [
    {
     "data": {
      "image/png": "[encoded data removed]",
      "text/plain": [
       "<Figure size 432x288 with 1 Axes>"
      ]
     },
     "metadata": {
      "needs_background": "light"
     },
     "output_type": "display_data"
    }
   ],
   "source": [
    "# TimesPregnant vs GlucoseConcentration\t\n",
    "plt.scatter(df.TimesPregnant,df.GlucoseConcentration)\n",
    "plt.xticks(np.sort(tp),np.sort(tp).astype(str));"
   ]
  },
  {
   "cell_type": "code",
   "execution_count": 62,
   "id": "911bc35d",
   "metadata": {},
   "outputs": [
    {
     "data": {
      "text/plain": [
       "<matplotlib.collections.PathCollection at 0x22c5b310220>"
      ]
     },
     "execution_count": 62,
     "metadata": {},
     "output_type": "execute_result"
    },
    {
     "data": {
      "image/png": "[encoded data removed]",
      "text/plain": [
       "<Figure size 432x288 with 1 Axes>"
      ]
     },
     "metadata": {
      "needs_background": "light"
     },
     "output_type": "display_data"
    }
   ],
   "source": [
    "plt.scatter(range(1,21),np.random.random(20))"
   ]
  },
  {
   "cell_type": "code",
   "execution_count": null,
   "id": "2037143e",
   "metadata": {},
   "outputs": [],
   "source": []
  }
 ],
 "metadata": {
  "kernelspec": {
   "display_name": "Python 3 (ipykernel)",
   "language": "python",
   "name": "python3"
  },
  "language_info": {
   "codemirror_mode": {
    "name": "ipython",
    "version": 3
   },
   "file_extension": ".py",
   "mimetype": "text/x-python",
   "name": "python",
   "nbconvert_exporter": "python",
   "pygments_lexer": "ipython3",
   "version": "3.9.7"
  }
 },
 "nbformat": 4,
 "nbformat_minor": 5
}
